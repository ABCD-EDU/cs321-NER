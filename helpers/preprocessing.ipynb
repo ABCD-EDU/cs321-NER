{
 "cells": [
  {
   "cell_type": "markdown",
   "metadata": {},
   "source": [
    "### Convert files to utf-8 to be used later for comparing with news websites"
   ]
  },
  {
   "cell_type": "code",
   "execution_count": 1,
   "metadata": {},
   "outputs": [],
   "source": [
    "from encodings.aliases import aliases\n",
    "\n",
    "alias_list=set([v for k, v in aliases.items()])\n",
    "# alias_list = ['cp1252','utf-9']\n",
    "alias_list = ['ascii',\n",
    "              'base64_codec', 'cp037',\n",
    "              'cp1026',\n",
    "              'cp1125',\n",
    "              'cp1140',\n",
    "              'cp1250',\n",
    "              'cp1251',\n",
    "              'cp1252',\n",
    "              'cp1253',\n",
    "              'cp1254',\n",
    "              'cp1255',\n",
    "              'cp1256',\n",
    "              'cp1257',\n",
    "              'cp1258', 'hex_codec', 'iso8859_10',\n",
    "              'iso8859_11',\n",
    "              'iso8859_13',\n",
    "              'iso8859_14',\n",
    "              'iso8859_15',\n",
    "              'iso8859_16',\n",
    "              'iso8859_2',\n",
    "              'iso8859_3',\n",
    "              'iso8859_4',\n",
    "              'iso8859_5',\n",
    "              'iso8859_6',\n",
    "              'iso8859_7',\n",
    "              'iso8859_8',\n",
    "              'iso8859_9', 'utf_16',\n",
    "              'utf_16_be',\n",
    "              'utf_16_le',\n",
    "              'utf_32',\n",
    "              'utf_32_be',\n",
    "              'utf_32_le',\n",
    "              'utf_7',\n",
    "              'utf_8', \n",
    "              'unicode_escaped']\n"
   ]
  },
  {
   "cell_type": "code",
   "execution_count": 2,
   "metadata": {},
   "outputs": [
    {
     "name": "stdout",
     "output_type": "stream",
     "text": [
      "events.txt\n",
      "first_names.txt\n",
      "gov_agencies.txt\n",
      "local_companies.txt\n",
      "organizations.txt\n",
      "provinces.txt\n",
      "surnames.txt\n",
      "tourist_dests.txt\n",
      "worldcities.csv\n",
      "0.6659982204437256\n"
     ]
    }
   ],
   "source": [
    "#NOTE: ONLY RUN THIS WHEN YOU ARE SATISFIED WITH RAW FILES' CONTENTS\n",
    "import os\n",
    "import time\n",
    "import concurrent.futures\n",
    "\n",
    "def encode_file_given_alias(alias,text):\n",
    "   try:\n",
    "      text = text.decode(alias).encode('utf-8')\n",
    "   except Exception as e:\n",
    "      pass\n",
    "   return text\n",
    "\n",
    "raw_file_names = os.listdir('../res/raw/')\n",
    "\n",
    "start = time.time()\n",
    "\n",
    "for file_name in raw_file_names:\n",
    "   print(file_name)\n",
    "   with open(f'../res/raw/{file_name}', 'rb') as f:\n",
    "      text = f.read()\n",
    "   with concurrent.futures.ThreadPoolExecutor() as executor:\n",
    "      args = ((alias, text) for alias in alias_list)\n",
    "      for result in executor.map(lambda p:  encode_file_given_alias(*p), args):\n",
    "         text = result\n",
    "   with open(f'../res/raw/{file_name}', 'wb') as f:\n",
    "      f.write(text)\n",
    "end = time.time()\n",
    "\n",
    "print(end - start)"
   ]
  },
  {
   "cell_type": "markdown",
   "metadata": {},
   "source": [
    "### Location Preprocessor"
   ]
  },
  {
   "cell_type": "code",
   "execution_count": null,
   "metadata": {},
   "outputs": [],
   "source": [
    "def get_provinces_list():\n",
    "   with open('../res/raw/provinces.txt') as province_file:\n",
    "      return [province\n",
    "            .lower()\n",
    "            .replace('\\n','') \n",
    "            .strip()\n",
    "            for province in province_file.readlines()]"
   ]
  },
  {
   "cell_type": "code",
   "execution_count": null,
   "metadata": {},
   "outputs": [],
   "source": [
    "\n",
    "def get_tourist_dest_list():\n",
    "   with open('../res/raw/tourist_dests.txt') as tourist_dest_file:\n",
    "      return [tourist_dest\n",
    "              .replace('\\n', '')\n",
    "              for tourist_dest in tourist_dest_file.readlines()]\n"
   ]
  },
  {
   "cell_type": "code",
   "execution_count": null,
   "metadata": {},
   "outputs": [],
   "source": [
    "import pandas as pd\n",
    "def get_cities_list():\n",
    "   raw_cities_df = pd.read_csv('../res/raw/worldcities.csv', index_col=False)\n",
    "   ph_cities_df = raw_cities_df.loc[raw_cities_df['iso3'] == 'PHL']\n",
    "   ph_cities_df = ph_cities_df[['city']]\n",
    "   ph_cities_df = ph_cities_df['city']\n",
    "   return ph_cities_df.to_list()"
   ]
  },
  {
   "cell_type": "code",
   "execution_count": null,
   "metadata": {},
   "outputs": [
    {
     "name": "stdout",
     "output_type": "stream",
     "text": [
      "READING PROVINCE LIST\n",
      "READING CITIES LIST\n",
      "READING TOURIST DESTINATION LIST\n",
      "COMPLETED READING FILES\n"
     ]
    }
   ],
   "source": [
    "print('READING PROVINCE LIST')\n",
    "provinces_list = get_provinces_list()\n",
    "print('READING CITIES LIST')\n",
    "cities_list = get_cities_list()\n",
    "print('READING TOURIST DESTINATION LIST')\n",
    "tourist_dest_list = get_tourist_dest_list()\n",
    "\n",
    "print('COMPLETED READING FILES')\n",
    "\n",
    "all_locations = provinces_list+cities_list+tourist_dest_list \n",
    "all_locations = [loc.lower() for loc in all_locations]\n"
   ]
  },
  {
   "cell_type": "code",
   "execution_count": null,
   "metadata": {},
   "outputs": [
    {
     "data": {
      "text/plain": [
       "True"
      ]
     },
     "execution_count": 6,
     "metadata": {},
     "output_type": "execute_result"
    }
   ],
   "source": [
    "# Check if a location exists\n",
    "'zoobic' in ''.join(all_locations)\n"
   ]
  },
  {
   "cell_type": "markdown",
   "metadata": {},
   "source": [
    "### Peoples Names preprocessor"
   ]
  },
  {
   "cell_type": "code",
   "execution_count": null,
   "metadata": {},
   "outputs": [],
   "source": []
  }
 ],
 "metadata": {
  "interpreter": {
   "hash": "cef9e06bb236b2a8629b07e87a04b187b952a0f661eff5533360a155783f0c33"
  },
  "kernelspec": {
   "display_name": "Python 3.8.11 ('base')",
   "language": "python",
   "name": "python3"
  },
  "language_info": {
   "codemirror_mode": {
    "name": "ipython",
    "version": 3
   },
   "file_extension": ".py",
   "mimetype": "text/x-python",
   "name": "python",
   "nbconvert_exporter": "python",
   "pygments_lexer": "ipython3",
   "version": "3.8.11"
  },
  "orig_nbformat": 4
 },
 "nbformat": 4,
 "nbformat_minor": 2
}
