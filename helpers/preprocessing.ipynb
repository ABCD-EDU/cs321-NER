{
 "cells": [
  {
   "cell_type": "markdown",
   "metadata": {},
   "source": [
    "### Convert files to utf-8 to be used later for comparing with news websites"
   ]
  },
  {
   "cell_type": "code",
   "execution_count": 1,
   "metadata": {},
   "outputs": [
    {
     "name": "stdout",
     "output_type": "stream",
     "text": [
      "events.txt\n",
      "first_names.txt\n",
      "provinces.txt\n",
      "surnames.txt\n",
      "tourist_dests.txt\n",
      "worldcities.csv\n"
     ]
    }
   ],
   "source": [
    "import os\n",
    "from charset_normalizer import detect\n",
    "\n",
    "raw_file_names = os.listdir('../res/raw/')\n",
    "for file_name in raw_file_names:\n",
    "   print(file_name)\n",
    "   with open(f'../res/raw/{file_name}','rb') as f:\n",
    "      text = f.read()\n",
    "      result = detect(text)\n",
    "      if result['encoding'] is not None:\n",
    "         text = text.decode(result['encoding']).encode('utf-8')\n",
    "      else:\n",
    "         text = text.decode('unicode_escape').encode('utf-8')\n",
    "   \n",
    "   with open(f'../res/raw/{file_name}', 'wb') as f:\n",
    "      f.write(text)\n",
    "   \n"
   ]
  },
  {
   "cell_type": "markdown",
   "metadata": {},
   "source": [
    "### Location Preprocessor"
   ]
  },
  {
   "cell_type": "code",
   "execution_count": 2,
   "metadata": {},
   "outputs": [],
   "source": [
    "def get_provinces_list():\n",
    "   with open('../res/raw/provinces.txt') as province_file:\n",
    "      return [province\n",
    "            .lower()\n",
    "            .replace('\\n','') \n",
    "            .strip()\n",
    "            for province in province_file.readlines()]"
   ]
  },
  {
   "cell_type": "code",
   "execution_count": 7,
   "metadata": {},
   "outputs": [],
   "source": [
    "\n",
    "def get_tourist_dest_list():\n",
    "   with open('../res/raw/tourist_dests.txt') as tourist_dest_file:\n",
    "      return [tourist_dest\n",
    "              .replace('\\n', '')\n",
    "              for tourist_dest in tourist_dest_file.readlines()]\n"
   ]
  },
  {
   "cell_type": "code",
   "execution_count": 4,
   "metadata": {},
   "outputs": [],
   "source": [
    "import pandas as pd\n",
    "def get_cities_list():\n",
    "   raw_cities_df = pd.read_csv('../res/raw/worldcities.csv', index_col=False)\n",
    "   ph_cities_df = raw_cities_df.loc[raw_cities_df['iso3'] == 'PHL']\n",
    "   ph_cities_df = ph_cities_df[['city']]\n",
    "   ph_cities_df = ph_cities_df['city']\n",
    "   return ph_cities_df.to_list()"
   ]
  },
  {
   "cell_type": "code",
   "execution_count": 8,
   "metadata": {},
   "outputs": [
    {
     "name": "stdout",
     "output_type": "stream",
     "text": [
      "READING PROVINCE LIST\n",
      "READING CITIES LIST\n",
      "READING TOURIST DESTINATION LIST\n",
      "COMPLETED READING FILES\n"
     ]
    }
   ],
   "source": [
    "print('READING PROVINCE LIST')\n",
    "provinces_list = get_provinces_list()\n",
    "print('READING CITIES LIST')\n",
    "cities_list = get_cities_list()\n",
    "print('READING TOURIST DESTINATION LIST')\n",
    "tourist_dest_list = get_tourist_dest_list()\n",
    "\n",
    "print('COMPLETED READING FILES')\n",
    "\n",
    "all_locations = provinces_list+cities_list+tourist_dest_list \n",
    "all_locations = [loc.lower() for loc in all_locations]\n"
   ]
  },
  {
   "cell_type": "code",
   "execution_count": 6,
   "metadata": {},
   "outputs": [
    {
     "data": {
      "text/plain": [
       "True"
      ]
     },
     "execution_count": 6,
     "metadata": {},
     "output_type": "execute_result"
    }
   ],
   "source": [
    "# Check if a location exists\n",
    "'boracay' in ''.join(all_locations)\n"
   ]
  },
  {
   "cell_type": "markdown",
   "metadata": {},
   "source": [
    "### Peoples Names preprocessor"
   ]
  },
  {
   "cell_type": "code",
   "execution_count": null,
   "metadata": {},
   "outputs": [],
   "source": []
  }
 ],
 "metadata": {
  "interpreter": {
   "hash": "cef9e06bb236b2a8629b07e87a04b187b952a0f661eff5533360a155783f0c33"
  },
  "kernelspec": {
   "display_name": "Python 3.8.11 ('base')",
   "language": "python",
   "name": "python3"
  },
  "language_info": {
   "codemirror_mode": {
    "name": "ipython",
    "version": 3
   },
   "file_extension": ".py",
   "mimetype": "text/x-python",
   "name": "python",
   "nbconvert_exporter": "python",
   "pygments_lexer": "ipython3",
   "version": "3.8.11"
  },
  "orig_nbformat": 4
 },
 "nbformat": 4,
 "nbformat_minor": 2
}
