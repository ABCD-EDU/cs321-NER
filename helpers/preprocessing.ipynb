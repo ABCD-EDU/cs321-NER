{
 "cells": [
  {
   "cell_type": "markdown",
   "metadata": {},
   "source": [
    "### Convert files to utf-8 to be used later for comparing with news websites"
   ]
  },
  {
   "cell_type": "code",
   "execution_count": 9,
   "metadata": {},
   "outputs": [],
   "source": [
    "from encodings.aliases import aliases\n",
    "\n",
    "alias_list=set([v for k, v in aliases.items()])\n",
    "# alias_list = ['cp1252','utf-9']\n",
    "alias_list = ['ascii',\n",
    "              'base64_codec', 'cp037',\n",
    "              'cp1026',\n",
    "              'cp1125',\n",
    "              'cp1140',\n",
    "              'cp1250',\n",
    "              'cp1251',\n",
    "              'cp1252',\n",
    "              'cp1253',\n",
    "              'cp1254',\n",
    "              'cp1255',\n",
    "              'cp1256',\n",
    "              'cp1257',\n",
    "              'cp1258', 'hex_codec', 'iso8859_10',\n",
    "              'iso8859_11',\n",
    "              'iso8859_13',\n",
    "              'iso8859_14',\n",
    "              'iso8859_15',\n",
    "              'iso8859_16',\n",
    "              'iso8859_2',\n",
    "              'iso8859_3',\n",
    "              'iso8859_4',\n",
    "              'iso8859_5',\n",
    "              'iso8859_6',\n",
    "              'iso8859_7',\n",
    "              'iso8859_8',\n",
    "              'iso8859_9', 'utf_16',\n",
    "              'utf_16_be',\n",
    "              'utf_16_le',\n",
    "              'utf_32',\n",
    "              'utf_32_be',\n",
    "              'utf_32_le',\n",
    "              'utf_7',\n",
    "              'utf_8', \n",
    "              'unicode_escaped']\n"
   ]
  },
  {
   "cell_type": "code",
   "execution_count": 18,
   "metadata": {},
   "outputs": [
    {
     "name": "stdout",
     "output_type": "stream",
     "text": [
      "0.04399561882019043\n"
     ]
    }
   ],
   "source": [
    "#NOTE: ONLY RUN THIS WHEN YOU ARE SATISFIED WITH RAW FILES' CONTENTS\n",
    "import os\n",
    "import time\n",
    "import concurrent.futures\n",
    "\n",
    "def encode_file_given_alias(alias,text):\n",
    "   try:\n",
    "      text = text.decode(alias).encode('utf-8')\n",
    "   except Exception as e:\n",
    "      pass\n",
    "   return text\n",
    "\n",
    "raw_file_names = os.listdir('../res/raw/')\n",
    "\n",
    "start = time.time()\n",
    "\n",
    "for file_name in raw_file_names:\n",
    "   if file_name.endswith('.csv'):\n",
    "      continue\n",
    "   with open(f'../res/raw/{file_name}', 'rb') as f:\n",
    "      text = f.read()\n",
    "   with concurrent.futures.ThreadPoolExecutor() as executor:\n",
    "      args = ((alias, text) for alias in alias_list)\n",
    "      for result in executor.map(lambda p:  encode_file_given_alias(*p), args):\n",
    "         text = result\n",
    "   with open(f'../res/raw/{file_name}', 'wb') as f:\n",
    "      f.write(text)\n",
    "end = time.time()\n",
    "\n",
    "print(end - start)"
   ]
  },
  {
   "cell_type": "code",
   "execution_count": 16,
   "metadata": {},
   "outputs": [],
   "source": [
    "# FILE WRITER\n",
    "from pathlib import Path\n",
    "# NOTE: To use the method, the argument must have the same name as the\n",
    "# method that it is calling. Check all the methods to know what arguments to pass\n",
    "# Replace will overwrite existing file with newly scraped data\n",
    "\n",
    "\n",
    "def create_entity_file(output_file_name, replace=False, encoding='utf-8'):\n",
    "   path = Path(f'../res/raw/{output_file_name}.txt')\n",
    "   if not path.is_file() and not replace:\n",
    "      entities_list = globals()[f'get_{output_file_name}_list']()\n",
    "      file = open(f'../res/raw/{output_file_name}.txt', \"x\",encoding=encoding)\n",
    "      for x in entities_list:\n",
    "         file.write(f'{x}\\n')\n",
    "\n",
    "   elif path.is_file and replace:\n",
    "      entities_list = globals()[f'get_{output_file_name}_list']()\n",
    "      file = open(f'../res/raw/{output_file_name}.txt', \"w\", encoding=encoding)\n",
    "      for x in entities_list:\n",
    "         file.write(f'{x}\\n')\n",
    "\n",
    "   print(f'DONE CREATING {output_file_name} FILE')\n"
   ]
  },
  {
   "cell_type": "markdown",
   "metadata": {},
   "source": [
    "### Location Preprocessor"
   ]
  },
  {
   "cell_type": "code",
   "execution_count": 24,
   "metadata": {},
   "outputs": [
    {
     "name": "stdout",
     "output_type": "stream",
     "text": [
      "['abra river', 'kaparakan waterfalls', 'apao rolling hills', 'piwek rock formations and the don mariano marcos bridge', 'underground caves of lussok and manacota', 'dupag rock formations', 'church ruins of pudtol', 'strawberry and farm fields in la trinidad', 'kennon road in tuba', 'ambuklao dam in bokod and mount pulag along kabayan', 'banaue view deck', 'banaue rice terraces', 'tappiya falls', 'nagacadan rice terraces in kiangan', 'hungduan rice terraces', 'mayoyao rice terraces', 'batad rice terraces', 'bangaan rice terraces', 'highest point in the philippine highway system in kiangan', 'chico river', 'buscalan town proper', 'sleeping beauty mountain', 'sagada', 'sumaguing cave', 'bomod-ok falls', 'kiltepan peak', 'lumiang cave', 'mummy caves', 'hanging coffins fo sagada', 'lake danum', 'maligcong rice terraces', 'beaches along san juan', 'ma-cho temple', 'luna pebble beach', 'tangadan falls', 'grape farms in bauang', 'thunderbird resort', 'pugad pugo adventure', 'hundred islands national park', 'bolinao beach & lighthouse', 'bolinao falls', 'enchanted cave', 'lingayen provincial capitol', 'various salt farms', 'magat dam', 'giant armchair in ilagan', 'ilagan sanctuary', 'sta. victoria caves', 'tumauini church', 'san pablo church and ruins', 'divilacan', 'palanan', 'mt. pulag', 'dalton pass', 'lower magat eco-tourism park', 'imugan falls', 'capisaan cave system', 'mt. ugo', 'church of san vicente ferrer', 'st. dominic cathedral', 'governor’s rapids', 'aglipay cave', 'siitan nature park', 'bimmapor rock formation', 'nagtipunan river', 'landingan viewpoint', 'sabang beach', 'ditumabo falls', 'millennium tree', 'dicasalarin cove', 'diguisit beach', 'museo de baler', 'dingalan', 'shrine of valor at mt. samat', 'las casas filipinas de acuzar', 'sisiman bay', 'pawikan conservation center', 'balanga wetland and nature park', 'tarak ridge', 'biak-na-bato national park', 'barasaoin church', 'mt. manalmon', 'pinagrealan cave', 'angat dam rainforest park', 'hilltop', 'san rafael river park', 'mt. balagbag', 'malangaan cave', 'bitbit river', 'minalungao national park', 'pantabangan dam', 'pantabagan lake', 'crystal wave resort', 'gabaldon', 'mt. pinatubo', 'angeles city for food-tripping', 'pamintuan mansion', 'sandbox pampanga', 'mount arayat park', 'nayong pilipino clark', 'clark freeport and special economic zone', 'mt. pinatubo crater lake', 'capas national shrine', 'monasterio de tarlac', 'kart city tarlac', 'tarlac recreation park', 'aquino center and museum', 'ylang-ylang center in anao', 'subic bay', 'subic bay freeport zone', 'olongapo', 'mt. pinatubo crater lake', 'crystal beach', 'anawangin cove', 'nagsasa cove', 'magalawa island', 'potipot island', 'taal volcano', 'taal heritage town', 'anilao', 'sombrero island', 'matabungkay', 'calatagan', 'laiya', 'fortune island', 'verde island passage', 'tagaytay city', 'corregidor island', 'fort san felipe and sangley point', 'aguinaldo shrine', 'mt. pico de loro', 'kaybiang tunnel', 'laguna lake', 'caliraya lake', 'pagsanjan falls', 'hot spring resorts in los banos', 'seven lakes of san pablo', 'mt. makiling', 'paete', 'nagcarlan underground cemetery', 'mount banahaw', 'pahiyas festival every may', 'villa escudero', 'kamay ni hesus shrine', 'jomalig island', 'balesin', 'laguna de bay', 'antipolo', 'angono', 'angono-binangonan petroglyphs', 'wawa dam', 'daranak falls', 'pinto art museum', 'tinipak river', 'mt. daraitan', 'masungi georeserve', 'moriones festival during holy week', 'luzon datum of 1911 reference marker', 'mt. malindig', 'maniwaya island', 'poctoy white beach', 'tres reyes islands', 'boac cathedral', 'biglang awa shrine', 'apo reef natural park', 'longest zipline in sablayan', 'mt. iglit-baco national park', 'white island', 'pandan island', 'puerto galera', 'sabang beach', 'tamaraw falls', 'talipanan beach', 'mangyan heritage village in mansalay', 'bulalacao', 'puerto princesa subterranean national park', 'coron reefs', 'coron bay', 'kayangan lake', 'el nido', 'calauit game preserve and wildlife sanctuary', 'tubbataha reef marine park', 'san vicente white beach', 'bonbon beach', 'fuerza de san andres', 'the cathedral of st. joseph the worker parish', 'mainit falls in odiongan', 'binucot beach in odiongan', 'mount guiting-guiting', 'sibuyan island', 'caramoan islands', 'cwc wakeboard complex', 'penafrancia basilica', 'mt. isarog national park', 'malabsay falls', 'lake buhi', 'puraran beach', 'binurong point', 'balacay point', 'cagnipa rolling hills', 'tuwad-tuwadan lagoon', 'palumbanes islands', 'bato church', 'ilihan point', 'rodeo masbateño', 'buntod reef marine sanctuary', 'burubancaso rock formation', 'catandayagan falls', 'sese brahman’s ranch', 'mangrovetum', 'burias', 'tinalisayan islets', 'animasola rock formations', 'mt. bulusan', 'bulusan volcano national park', 'paguriran island and lagoon', 'whaleshark encounters', 'pink sand beaches of subic in matnog', 'irosin hot springs', 'barcelona ruins and church', 'kawa bath in tibiao', 'mararison island', 'seco island', 'nogas island', 'aningalan highlands strawberry garden', 'igbaclag cave', 'malumpati cold spring', 'naranjo water park', 'anini-y church', 'santa monica church & pan-ay bell', 'baybay beach', 'palina greenbelt river tour', 'cadimahan libotong river cruise', 'ang panublion  museum', 'culajao mangrove eco-park', 'suhot cave and spring in dumalag', 'guisi beach', 'guisi lighthouse', 'taklong island national marine reserve', 'alubihod beach', 'trappist monastery', 'the san lorenzo windmills', 'smallest plaza', 'miag-ao church', 'molo church', 'calle real heritage district', 'iloilo river esplanade', 'garin farm', 'islas de gigantes', 'the ruins in talisay', 'balay negrense', 'san sebastian cathedral', 'mt. kanlaon', 'capitol park and lagoon', 'sipalay', 'chocolate hills', 'panglao island', 'alona beach', 'hinagdanan cave', 'philippine tarsier sanctuary', 'loboc river cruise', 'bilar man-made forest', 'baclayon church', 'magellan’s cross', 'fort san pedro', 'basilica minore del santo nino', 'cebu taoist temple', 'kawasan falls', 'osmena peak', 'batnayan island', 'tops lookout', 'temple of leah', 'sirao garden', 'lapu lapu shrine', 'apo island', 'balinsasayao twin lakes natural park', 'pulagnbato falls in valencia', 'mount talinis', 'siliman university', 'lake danao', 'rizal boulevard', 'salogdoong beach', 'lazi church', 'lazi convent', 'cambigahay falls', '400-year old balete tree', 'lugnason falls', 'guiwanon spring park', 'cantabon cave', 'st. francis of assisi church', 'tinago falls', 'ulan-ulan falls', 'sambawan island', 'higatangan island', 'dalutan island', 'talahid beach resort', 'mt. tres marias', 'mainit hot spring', 'baybay beach', 'divinubo island', 'linao cave', 'homonhon island', 'guian world war ii operating base', 'calicoan island', 'san juanico bridge', 'san juanico strait', 'macarthur landing memorial national park', 'lake danao', 'tacloban', 'kalanggaman island', 'biri island', 'capul island', 'capul island lighthouse', 'pink beach of san vicente', 'san juanico bridge', 'sohoton caves & natural bridge park', 'tarangban falls', 'lulugayan falls', 'langun gobingob cave in calbiga', 'ulot river torpedo boat', 'agas-agas bridge', 'napantao marine sanctuary', 'puting buhangin island', 'banahaw cold spring', 'maasin cathedral', 'limasawa', 'dakak beach resort', 'gloria’s fantasyland', 'rizal park and shrine', 'st. james the greater church', 'dapitan city plaza', 'dipolog sunset boulvard', 'linabo peak', 'pagadian rotonda', 'city hall and plaza', 'baywalk & pier', 'lakewood', 'dao dao islands', 'puting balas', 'alindahaw lakeview resort in lakwood', 'obelisk rotunda', 'provincial capitol', 'buluan island', 'kabug mangrove park and wetlands', 'siay-kabasalan wetlands mini-disneyland theme park', 'pandilusan island', 'litayon island', 'caves in moalboal', 'bukidnon provincial capitol', 'kaamulan park', 'pineapple fields', 'lake apo', 'mount dulang-dulang', 'mount kitanglad', 'mount kalatungan', 'mount maagnaw', 'mount capistrano', 'mount palaopao', 'center for ecologocial development and recreation', 'sunken cemetery & ruins', 'white island', 'mantigue island nature park', 'mt. hibok-hibok', 'ardent springs', 'sto. nino cold spring', 'soda water park', 'katibawasan falls', 'tuasan falls', 'tinago falls', 'maria cristina falls', 'mimbalut falls', 'npc nature park', 'paseo de santiago', 'mount malindang range natural park and lake duminagat', 'caluya shrine', 'house of suman', 'immaculate conception cathedral pipe organ in ozamiz', 'cotta fort', 'jimenez church', 'mapawa nature park', 'seven seas water park and resort', 'garden of malasag eco tourism village', 'museo de oro', 'awao falls', 'mainit sulfuric hotspring in maco', 'caves in nabunturan and haven’s peak highland resort', 'mt. candalaga', 'the biggest gold ring in the philippines.', 'island garden city of samal', 'samal island', 'pearl farm beach resort', 'banana beach resort', 'talikud island', 'people’s park', 'eden nature park & garden', 'mount apo', 'crocodile park', 'philippine eagle center', '‘d bone collector museum', 'philippine eagle center', 'little boracay beach resort in sta. maria', 'sarangani island', 'balut island', 'olanivan island', 'sleeping dragon', 'aliwagwag falls', 'dahican beach in mati', 'ultralight flying from mati airport', 'sleeping dinosaur view deck', 'blue bless beach resort aqua park', 'subangan museum', 'baywalk area', 'asik-asik falls in alamada', 'mt. apo', 'magpet and makilala trails)', 'ligusan marsh', 'fort pikit', 'kabakan caves', 'skyline mountain resort', 'gumasa beach', 'isla jardin del mar', 'belimac sumbang point beach', 'heritage houses in glan', 'hacienda don juan', 'white water tubing in maitum', 'sarangani bay view resort paragliding', 'lake sebu', 'seven falls', 'lake holon', 'mount melibengoy', 'mount matutum', 'queen tuna park', 't’boli museum', 't’nalak festival', 'surallah rotunda', 'sultan kudarat provincial capitol', 'buluan lake', 'marawir peak', 'kalamansig beach', 'baras bird sanctuary', 'lagbasan “paradise” cave', 'agusan river', 'butuan national museum', 'delta discovery park', 'balangay shrine museum', 'agusan marsh wildlife sanctuary', 'esperanza bridge', 'bayugan rotunda', 'pinandagatan falls', 'white castle', 'libjo and cabdianao', 'lake bababu', 'mount redondo natural bonsai forest and mount kambinliw in loreto', 'siargao', 'cloud 9', 'island-hopping in siargao', 'daku and naked island)', 'bucas grande', 'sohoton cove', 'magpupungko', 'sugba lagoon', 'tiktikan lake', 'mabua pebble beach', 'silop cave', 'tinuy-an falls', 'enchanted river in hinatuan', 'britania group of islands', 'surf spots in cantilan and lanuza', 'malamawi island', 'bulingan falls in lamitan', 'the lake in the panigayan fishing village', 'sumagdang beach', 'old basilan provincial capitol', 'lake lanao', 'sacred mountain national park', 'mindanao state university', 'aga khan museum of islamic arts', 'torogan', 'masjid dimaukom or pink mosque', 'abpi white mosque', 'blue lagoon', 'timako hill', 'liguasan marsh', 'sulu provincial capitol', 'camp bud datu', 'jolo group of volcanoes', 'sulu museum', 'masjid tulay', 'bud bongao', 'sheik makhdum mosque in simunul island', 'tawi-tawi provincial capitol', 'bolobok cave and beach', 'panampangan island', 'sitangkai']\n"
     ]
    }
   ],
   "source": [
    "def get_provinces_list():\n",
    "   with open('../res/raw/tourist_dests.txt', encoding='utf-8') as province_file:\n",
    "      return [province\n",
    "            .lower()\n",
    "            .replace('\\n','') \n",
    "            .strip()\n",
    "            for province in province_file.readlines()]"
   ]
  },
  {
   "cell_type": "code",
   "execution_count": 2,
   "metadata": {},
   "outputs": [],
   "source": [
    "\n",
    "def get_tourist_dest_list():\n",
    "   with open('../res/raw/tourist_dests.txt') as tourist_dest_file:\n",
    "      return [tourist_dest\n",
    "              .replace('\\n', '')\n",
    "              for tourist_dest in tourist_dest_file.readlines()]\n"
   ]
  },
  {
   "cell_type": "code",
   "execution_count": 1,
   "metadata": {},
   "outputs": [
    {
     "ename": "NameError",
     "evalue": "name 'create_entity_file' is not defined",
     "output_type": "error",
     "traceback": [
      "\u001b[1;31m---------------------------------------------------------------------------\u001b[0m",
      "\u001b[1;31mNameError\u001b[0m                                 Traceback (most recent call last)",
      "\u001b[1;32m~\\AppData\\Local\\Temp\\ipykernel_26448\\1715666838.py\u001b[0m in \u001b[0;36m<module>\u001b[1;34m\u001b[0m\n\u001b[0;32m      8\u001b[0m    \u001b[1;32mreturn\u001b[0m \u001b[0mph_cities_df\u001b[0m\u001b[1;33m.\u001b[0m\u001b[0mto_list\u001b[0m\u001b[1;33m(\u001b[0m\u001b[1;33m)\u001b[0m\u001b[1;33m\u001b[0m\u001b[1;33m\u001b[0m\u001b[0m\n\u001b[0;32m      9\u001b[0m \u001b[1;33m\u001b[0m\u001b[0m\n\u001b[1;32m---> 10\u001b[1;33m \u001b[0mcreate_entity_file\u001b[0m\u001b[1;33m(\u001b[0m\u001b[1;34m'cities'\u001b[0m\u001b[1;33m,\u001b[0m\u001b[0mreplace\u001b[0m\u001b[1;33m=\u001b[0m\u001b[1;32mTrue\u001b[0m\u001b[1;33m)\u001b[0m\u001b[1;33m\u001b[0m\u001b[1;33m\u001b[0m\u001b[0m\n\u001b[0m",
      "\u001b[1;31mNameError\u001b[0m: name 'create_entity_file' is not defined"
     ]
    }
   ],
   "source": [
    "import pandas as pd\n",
    "def get_cities_list():\n",
    "   raw_cities_df = pd.read_csv(\n",
    "       '../res/raw/worldcities.csv', index_col=False, encoding='utf-8')\n",
    "   ph_cities_df = raw_cities_df.loc[raw_cities_df['iso3'] == 'PHL']\n",
    "   ph_cities_df = ph_cities_df[['city']]\n",
    "   ph_cities_df = ph_cities_df['city']\n",
    "   return ph_cities_df.to_list()\n",
    "\n",
    "create_entity_file('cities',replace=True)\n"
   ]
  },
  {
   "cell_type": "code",
   "execution_count": 6,
   "metadata": {},
   "outputs": [
    {
     "name": "stdout",
     "output_type": "stream",
     "text": [
      "READING PROVINCE LIST\n",
      "READING CITIES LIST\n",
      "READING TOURIST DESTINATION LIST\n",
      "COMPLETED READING FILES\n"
     ]
    }
   ],
   "source": [
    "print('READING PROVINCE LIST')\n",
    "provinces_list = get_provinces_list()\n",
    "print('READING CITIES LIST')\n",
    "cities_list = get_cities_list()\n",
    "print('READING TOURIST DESTINATION LIST')\n",
    "tourist_dest_list = get_tourist_dest_list()\n",
    "\n",
    "print('COMPLETED READING FILES')\n",
    "\n",
    "all_locations = provinces_list+cities_list+tourist_dest_list \n",
    "all_locations = [loc.lower() for loc in all_locations]\n"
   ]
  },
  {
   "cell_type": "code",
   "execution_count": 12,
   "metadata": {},
   "outputs": [
    {
     "data": {
      "text/plain": [
       "True"
      ]
     },
     "execution_count": 12,
     "metadata": {},
     "output_type": "execute_result"
    }
   ],
   "source": [
    "# Check if a location exists\n",
    "'vigan' in ''.join(all_locations)\n"
   ]
  },
  {
   "cell_type": "markdown",
   "metadata": {},
   "source": [
    "### Final Dataset"
   ]
  },
  {
   "cell_type": "code",
   "execution_count": 15,
   "metadata": {},
   "outputs": [
    {
     "name": "stdout",
     "output_type": "stream",
     "text": [
      "fe\n",
      "h\n",
      "al\n",
      "cibi information, inc\n",
      "integrated micro-electronics, inc.\n",
      "tm\n",
      "catholic bishopsâ’ conference of the philippinesâ’ national secretariat for social action, justice, and peace (cbcp-nassa)\n",
      "center for leadership, citizenship and democracy\n",
      "balay alternative legal advocates for development in mindanaw, inc. - balaod mindanaw\n",
      "catholic bishopsâ’ conference of the philippinesâ’ national secretariat for social action, justice, and peace (cbcp-nassa)\n",
      "center for leadership, citizenship and democracy\n",
      "alternative law groups, inc. (alg)\n",
      "balay alternative legal advocates for development in mindanaw, inc. - balaod mindanaw\n",
      "uy\n",
      "go\n",
      "sy\n",
      "yu\n",
      "co\n",
      "dy\n"
     ]
    }
   ],
   "source": [
    "import pandas as pd\n",
    "from IPython.display import display\n",
    "\n",
    "final_dataset_df = pd.DataFrame(columns=['entity','tag'])\n",
    "\n",
    "for file_name in os.listdir('../res/raw/'):\n",
    "   entity_data_df = pd.DataFrame(columns=['entity', 'tag'])\n",
    "   if file_name.endswith(\".txt\") and not file_name.startswith(\"final\"):\n",
    "      with open(f'../res/raw/{file_name}', errors='ignore') as file:\n",
    "         file_name = file_name.split('.txt')[0]\n",
    "         if file_name=='cities' or file_name=='provinces':\n",
    "            tag = 'GPE'\n",
    "         elif file_name=='events' or file_name =='holidays':\n",
    "            tag = 'EVT'\n",
    "         elif 'name' in file_name:\n",
    "            tag = 'PER'\n",
    "         elif file_name == 'tourist_dests':\n",
    "            tag = 'LOC'\n",
    "         elif file_name =='organizations' or \\\n",
    "              file_name =='local_companies' or \\\n",
    "              file_name =='gov_agencies' or \\\n",
    "              file_name =='gov_acronym':\n",
    "               tag ='ORG'\n",
    "         entities_list = []\n",
    "         \n",
    "         for line in file.readlines():\n",
    "            line = ''.join(line.strip().lower().split('\\n'))\n",
    "            if ',' in line or '\"' in line or len(line) < 3:\n",
    "               print(line)\n",
    "               continue\n",
    "            else:\n",
    "               entities_list.append(line)\n",
    "\n",
    "         entity_data_df['entity'] = entities_list\n",
    "         entity_data_df['tag'] = len(entity_data_df)*[tag]\n",
    "         # display(entity_data_df)\n",
    "         final_dataset_df =  final_dataset_df.append(entity_data_df, ignore_index=True)\n",
    "\n",
    "\n",
    "final_dataset_df.to_csv('../res/preprocessed/final_dataset.csv', index=False)\n"
   ]
  },
  {
   "cell_type": "code",
   "execution_count": 1,
   "metadata": {},
   "outputs": [
    {
     "name": "stdout",
     "output_type": "stream",
     "text": [
      "start: 6 | end: 14\n",
      "start: 15 | end: 23\n",
      "start: 55 | end: 71\n",
      "start: 75 | end: 81\n",
      "start: 83 | end: 89\n"
     ]
    }
   ],
   "source": [
    "matched_ents = ['Benjamin','Magalong','Sinulog Festival', 'Quiapo', 'Manila']\n",
    "sample_text = 'Mayor Benjamin Magalong spearheaded the celebration of Sinulog Festival in Quiapo, Manila'\n",
    "\n",
    "sample_text = ' '.join(sample_text.split(','))\n",
    "for ent in matched_ents:\n",
    "  start_idx = sample_text.find(ent)\n",
    "  if start_idx==-1:\n",
    "    ent_words = ent.split(' ')\n",
    "    # If more than two words yung entity\n",
    "    if len(ent_words) > 1 and ent in sample_text:\n",
    "      ent_first_word = ent_words[0]\n",
    "      ent_last_word = ent_words[len(ent_words)-1]\n",
    "      start_idx = sample_text.find(ent_first_word)\n",
    "      end_idx = sample_text.find(ent_last_word)\n",
    "      end_idx = end_idx + len(ent_last_word)-1\n",
    "    else:\n",
    "      continue\n",
    "  else:\n",
    "    end_idx = start_idx+len(ent)\n",
    "\n",
    "  print(f'start: {start_idx} | end: {end_idx}')\n"
   ]
  },
  {
   "cell_type": "code",
   "execution_count": null,
   "metadata": {},
   "outputs": [],
   "source": []
  }
 ],
 "metadata": {
  "interpreter": {
   "hash": "cef9e06bb236b2a8629b07e87a04b187b952a0f661eff5533360a155783f0c33"
  },
  "kernelspec": {
   "display_name": "Python 3.8.11 ('base')",
   "language": "python",
   "name": "python3"
  },
  "language_info": {
   "codemirror_mode": {
    "name": "ipython",
    "version": 3
   },
   "file_extension": ".py",
   "mimetype": "text/x-python",
   "name": "python",
   "nbconvert_exporter": "python",
   "pygments_lexer": "ipython3",
   "version": "3.9.7"
  },
  "orig_nbformat": 4
 },
 "nbformat": 4,
 "nbformat_minor": 2
}
