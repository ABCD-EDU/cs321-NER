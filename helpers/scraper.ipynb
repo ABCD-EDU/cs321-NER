{
 "cells": [
  {
   "cell_type": "markdown",
   "metadata": {},
   "source": [
    "### HELPER METHOD"
   ]
  },
  {
   "cell_type": "code",
   "execution_count": 6,
   "metadata": {},
   "outputs": [],
   "source": [
    "# FILE WRITER\n",
    "from pathlib import Path\n",
    "# NOTE: To use the method, the argument must have the same name as the \n",
    "# method that it is calling. Check all the methods to know what arguments to pass\n",
    "# Replace will overwrite existing file with newly scraped data\n",
    "\n",
    "def create_entity_file(output_file_name, replace=False):\n",
    "   path = Path(f'../res/raw/{output_file_name}.txt')\n",
    "   if not path.is_file() and not replace:\n",
    "      entities_list = globals()[f'scrape_{output_file_name}_list']()\n",
    "      file = open(f'../res/raw/{output_file_name}.txt', \"x\")\n",
    "      for x in entities_list:\n",
    "         file.write(f'{x}\\n')\n",
    "\n",
    "   elif path.is_file and replace:\n",
    "      entities_list = globals()[f'scrape_{output_file_name}_list']()\n",
    "      file = open(f'../res/raw/{output_file_name}.txt', \"w\", encoding='utf-8')\n",
    "      for x in entities_list:\n",
    "         file.write(f'{x}\\n')\n",
    "\n",
    "   print(f'DONE CREATING {output_file_name} FILE')\n",
    "\n"
   ]
  },
  {
   "cell_type": "code",
   "execution_count": 7,
   "metadata": {},
   "outputs": [],
   "source": [
    "# IMPORT PACKAGES\n",
    "import requests\n",
    "import pandas as pd\n",
    "from IPython.display import display\n",
    "from bs4 import BeautifulSoup, NavigableString\n",
    "import requests\n",
    "from selenium import webdriver\n"
   ]
  },
  {
   "cell_type": "markdown",
   "metadata": {},
   "source": [
    "### Get Local Tourist Destinations"
   ]
  },
  {
   "cell_type": "code",
   "execution_count": 5,
   "metadata": {},
   "outputs": [],
   "source": [
    "\n",
    "\n",
    "def scrape_tourist_dests_list():\n",
    "   tourist_dest_url = 'https://www.traveling-up.com/travel-guide-81-provinces-of-the-philippines'\n",
    "\n",
    "   driver = webdriver.Firefox(executable_path='geckodriver.exe')\n",
    "   driver.get(tourist_dest_url)\n",
    "   html = driver.page_source\n",
    "\n",
    "   data = BeautifulSoup(html,'lxml')\n",
    "   ul_list= data.find(\"div\",{\"class\":\"entry-content\"}).find_all(\"ul\")\n",
    "\n",
    "   tourist_dest_list = []\n",
    "   for ul in ul_list:\n",
    "      li_children = ul.findChildren(\"li\", recursive=False)\n",
    "      for li in li_children:\n",
    "         if type(li) == NavigableString:\n",
    "            continue\n",
    "         elif 'Top tourist spots:' in li.text:\n",
    "            # Remove top tourist spots from the text and get the 2nd item which is \n",
    "            # texts with tourist destinations that are separated by comma\n",
    "            cleaned_tourist_dest = li.text.split('Top tourist spots:')[1]\n",
    "            # Split the text to get items as list\n",
    "            cleaned_tourist_dest = cleaned_tourist_dest.split(',')\n",
    "            # Get only the data that comes before a parentheses\n",
    "            # Get the lower case \n",
    "            # Remove 'xa0' character using space\n",
    "            cleaned_tourist_dest = [dest.split('(')[0]\n",
    "                                    .lower()\n",
    "                                    .strip()\n",
    "                                    .replace(u'\\xa0',' ')\n",
    "                                    for dest in cleaned_tourist_dest]\n",
    "            # Remove empty strings from the list\n",
    "            cleaned_tourist_dest = list(filter(None, cleaned_tourist_dest))\n",
    "            # Finally append values to the tourist_dest_list\n",
    "            tourist_dest_list = tourist_dest_list + cleaned_tourist_dest\n",
    "   print('DONE SCRAPING...')\n",
    "   return tourist_dest_list"
   ]
  },
  {
   "cell_type": "code",
   "execution_count": 52,
   "metadata": {},
   "outputs": [
    {
     "name": "stderr",
     "output_type": "stream",
     "text": [
      "C:\\Users\\Arian\\AppData\\Local\\Temp\\ipykernel_18128\\2688134321.py:8: DeprecationWarning: executable_path has been deprecated, please pass in a Service object\n",
      "  driver = webdriver.Firefox(executable_path='geckodriver.exe')\n"
     ]
    },
    {
     "name": "stdout",
     "output_type": "stream",
     "text": [
      "DONE SCRAPING...\n",
      "DONE CREATING tourist_dests FILE\n"
     ]
    }
   ],
   "source": [
    "create_entity_file('tourist_dests', replace=True)\n"
   ]
  },
  {
   "cell_type": "markdown",
   "metadata": {},
   "source": [
    "### Get Surnames"
   ]
  },
  {
   "cell_type": "code",
   "execution_count": null,
   "metadata": {},
   "outputs": [],
   "source": [
    "\n",
    "def scrape_surnames_list():\n",
    "    url = 'https://baguiocityguide.com/how-common-is-your-last-name-here-are-the-top-1000-filipino-surnames'\n",
    "\n",
    "    header = {\n",
    "        \"User-Agent\": \"Mozilla/5.0 (X11; Linux x86_64) AppleWebKit/537.36 (KHTML, like Gecko) Chrome/50.0.2661.75 Safari/537.36\",\n",
    "        \"X-Requested-With\": \"XMLHttpRequest\"\n",
    "    }\n",
    "\n",
    "    r = requests.get(url, headers=header)\n",
    "    dfs = pd.read_html(r.text)\n",
    "\n",
    "    surnames_list = []\n",
    "    for table in dfs:\n",
    "        surnames = [surname.lower() for surname in table['Surname'].to_list()]\n",
    "        surnames_list = surnames_list + surnames\n",
    "    return surnames_list"
   ]
  },
  {
   "cell_type": "code",
   "execution_count": null,
   "metadata": {},
   "outputs": [
    {
     "name": "stdout",
     "output_type": "stream",
     "text": [
      "DONE CREATING surnames FILE\n"
     ]
    }
   ],
   "source": [
    "create_entity_file('surnames', replace=True)\n"
   ]
  },
  {
   "cell_type": "markdown",
   "metadata": {},
   "source": [
    "### Get First names"
   ]
  },
  {
   "cell_type": "code",
   "execution_count": null,
   "metadata": {},
   "outputs": [],
   "source": [
    "\n",
    "def scrape_first_names_list():\n",
    "    url = 'https://forebears.io/philippines/forenames'\n",
    "\n",
    "    header = {\n",
    "        \"User-Agent\": \"Mozilla/5.0 (X11; Linux x86_64) AppleWebKit/537.36 (KHTML, like Gecko) Chrome/50.0.2661.75 Safari/537.36\",\n",
    "        \"X-Requested-With\": \"XMLHttpRequest\"\n",
    "    }\n",
    "\n",
    "    r = requests.get(url, headers=header)\n",
    "    dfs = pd.read_html(r.text)\n",
    "\n",
    "    firstnames_list = []\n",
    "    for table in dfs:\n",
    "        first_names = [first_name.lower() for first_name in table['Forename'].to_list()]\n",
    "        firstnames_list = firstnames_list + first_names\n",
    "    return firstnames_list\n"
   ]
  },
  {
   "cell_type": "code",
   "execution_count": null,
   "metadata": {},
   "outputs": [
    {
     "name": "stdout",
     "output_type": "stream",
     "text": [
      "DONE CREATING first_names FILE\n"
     ]
    }
   ],
   "source": [
    "create_entity_file('first_names', replace=True)\n"
   ]
  },
  {
   "cell_type": "markdown",
   "metadata": {},
   "source": [
    "### Get Local Events "
   ]
  },
  {
   "cell_type": "code",
   "execution_count": null,
   "metadata": {},
   "outputs": [],
   "source": [
    "\n",
    "def scrape_events_list():\n",
    "   url = 'https://www.tpb.gov.ph/tpb-calendar-of-promotions-and-marketing-activities/calendar-of-philippine-festivals-and-monthly-observances-theme/'\n",
    "\n",
    "   header = {\n",
    "        \"User-Agent\": \"Mozilla/5.0 (X11; Linux x86_64) AppleWebKit/537.36 (KHTML, like Gecko) Chrome/50.0.2661.75 Safari/537.36\",\n",
    "        \"X-Requested-With\": \"XMLHttpRequest\"\n",
    "    }\n",
    "\n",
    "   r = requests.get(url, headers=header)\n",
    "   dfs = pd.read_html(r.text)\n",
    "   \n",
    "   events_list = []\n",
    "   months = ['January', 'February', 'March', 'April', 'May', 'June', 'July', 'August', 'September', 'October', 'November', 'December']\n",
    "   for table in dfs:\n",
    "      for event in table['Name of Event'].to_list():\n",
    "         if event.lower() not in map(str.lower, months):\n",
    "            events_list.append(event.lower())               \n",
    "\n",
    "   return events_list"
   ]
  },
  {
   "cell_type": "code",
   "execution_count": null,
   "metadata": {},
   "outputs": [
    {
     "name": "stdout",
     "output_type": "stream",
     "text": [
      "DONE CREATING events FILE\n"
     ]
    }
   ],
   "source": [
    "create_entity_file('events', replace=True)\n",
    "# create_entity_file('events', replace=False)"
   ]
  },
  {
   "cell_type": "markdown",
   "metadata": {},
   "source": [
    "### GET local companies"
   ]
  },
  {
   "cell_type": "code",
   "execution_count": 43,
   "metadata": {},
   "outputs": [],
   "source": [
    "\n",
    "def scrape_local_companies_list():\n",
    "    url = 'https://en.wikipedia.org/wiki/List_of_companies_of_the_Philippines'\n",
    "\n",
    "    header = {\n",
    "        \"User-Agent\": \"Mozilla/5.0 (X11; Linux x86_64) AppleWebKit/537.36 (KHTML, like Gecko) Chrome/50.0.2661.75 Safari/537.36\",\n",
    "        \"X-Requested-With\": \"XMLHttpRequest\"\n",
    "    }\n",
    "\n",
    "    r = requests.get(url, headers=header)\n",
    "    dfs = pd.read_html(r.text)\n",
    "\n",
    "    local_companies_list = []\n",
    "    for idx, table in enumerate(dfs):\n",
    "        # Skip first table\n",
    "        if idx==0:\n",
    "            continue\n",
    "        \n",
    "        company_names = [company_name.lower()\n",
    "                       for company_name in table['Name'].to_list()]\n",
    "        local_companies_list = local_companies_list + company_names\n",
    "    return local_companies_list\n"
   ]
  },
  {
   "cell_type": "code",
   "execution_count": 44,
   "metadata": {},
   "outputs": [
    {
     "name": "stdout",
     "output_type": "stream",
     "text": [
      "DONE CREATING local_companies FILE\n"
     ]
    }
   ],
   "source": [
    "create_entity_file('local_companies', replace=True)\n"
   ]
  },
  {
   "cell_type": "markdown",
   "metadata": {},
   "source": [
    "### Get NGOS and Government Organizations"
   ]
  },
  {
   "cell_type": "code",
   "execution_count": 45,
   "metadata": {},
   "outputs": [],
   "source": [
    "\n",
    "def scrape_organizations_list():\n",
    "   orgs_list = []\n",
    "\n",
    "   for i in range(3):\n",
    "      \n",
    "      url = f'https://worldjusticeproject.org/resource-hub/leading-organizations?factor=All&geography=174&name=&order=field_organization_name_trans&sort=asc&page={i}'\n",
    "\n",
    "      header = {\n",
    "         \"User-Agent\": \"Mozilla/5.0 (X11; Linux x86_64) AppleWebKit/537.36 (KHTML, like Gecko) Chrome/50.0.2661.75 Safari/537.36\",\n",
    "         \"X-Requested-With\": \"XMLHttpRequest\"\n",
    "      }\n",
    "\n",
    "      r = requests.get(url, headers=header)\n",
    "      dfs = pd.read_html(r.text)\n",
    "      \n",
    "      \n",
    "      for table in dfs:\n",
    "         for org in table['Organization Name'].to_list():\n",
    "            orgs_list.append(org.lower().strip())\n",
    "\n",
    "   return orgs_list\n",
    "try:\n",
    "   scrape_organizations_list()\n",
    "except Exception as e:\n",
    "   print(f'{e}')\n"
   ]
  },
  {
   "cell_type": "code",
   "execution_count": 48,
   "metadata": {},
   "outputs": [
    {
     "name": "stdout",
     "output_type": "stream",
     "text": [
      "DONE CREATING organizations FILE\n"
     ]
    }
   ],
   "source": [
    "create_entity_file('organizations',replace=True)"
   ]
  },
  {
   "cell_type": "markdown",
   "metadata": {},
   "source": [
    "### Get government agencies"
   ]
  },
  {
   "cell_type": "code",
   "execution_count": 53,
   "metadata": {},
   "outputs": [],
   "source": [
    "import math \n",
    "def scrape_gov_agencies_list():\n",
    "    url = 'https://www.officialgazette.gov.ph/lists/government-websites/'\n",
    "\n",
    "    header = {\n",
    "        \"User-Agent\": \"Mozilla/5.0 (X11; Linux x86_64) AppleWebKit/537.36 (KHTML, like Gecko) Chrome/50.0.2661.75 Safari/537.36\",\n",
    "        \"X-Requested-With\": \"XMLHttpRequest\"\n",
    "    }\n",
    "\n",
    "    r = requests.get(url, headers=header)\n",
    "    dfs = pd.read_html(r.text)\n",
    "\n",
    "    gov_agencies_list = []\n",
    "    for gov_agency in dfs[0][0].to_list():\n",
    "        gov_agency = str(gov_agency)\n",
    "        if gov_agency != None and gov_agency != 'nan':\n",
    "            gov_agencies_list.append(gov_agency.lower())\n",
    "\n",
    "    return gov_agencies_list\n"
   ]
  },
  {
   "cell_type": "code",
   "execution_count": 50,
   "metadata": {},
   "outputs": [
    {
     "name": "stdout",
     "output_type": "stream",
     "text": [
      "DONE CREATING gov_agencies FILE\n"
     ]
    }
   ],
   "source": [
    "create_entity_file('gov_agencies',replace=True)"
   ]
  },
  {
   "cell_type": "markdown",
   "metadata": {},
   "source": [
    "## Get local holidays"
   ]
  },
  {
   "cell_type": "code",
   "execution_count": 13,
   "metadata": {},
   "outputs": [],
   "source": [
    "\n",
    "def scrape_holidays_list():\n",
    "    url = 'https://www.officeholidays.com/countries/philippines/2022'\n",
    "\n",
    "    header = {\n",
    "        \"User-Agent\": \"Mozilla/5.0 (X11; Linux x86_64) AppleWebKit/537.36 (KHTML, like Gecko) Chrome/50.0.2661.75 Safari/537.36\",\n",
    "        \"X-Requested-With\": \"XMLHttpRequest\"\n",
    "    }\n",
    "\n",
    "    r = requests.get(url, headers=header)\n",
    "    dfs = pd.read_html(r.text)\n",
    "\n",
    "    holidays_list = []\n",
    "    for table in dfs:\n",
    "        display(table)\n",
    "        \n",
    "        holidays = [holidays.lower()\n",
    "                         for holidays in table['Holiday Name'].to_list()]\n",
    "        holidays_list = holidays_list + holidays\n",
    "    \n",
    "    return holidays_list\n",
    "\n"
   ]
  },
  {
   "cell_type": "code",
   "execution_count": 14,
   "metadata": {},
   "outputs": [
    {
     "data": {
      "text/html": [
       "<div>\n",
       "<style scoped>\n",
       "    .dataframe tbody tr th:only-of-type {\n",
       "        vertical-align: middle;\n",
       "    }\n",
       "\n",
       "    .dataframe tbody tr th {\n",
       "        vertical-align: top;\n",
       "    }\n",
       "\n",
       "    .dataframe thead th {\n",
       "        text-align: right;\n",
       "    }\n",
       "</style>\n",
       "<table border=\"1\" class=\"dataframe\">\n",
       "  <thead>\n",
       "    <tr style=\"text-align: right;\">\n",
       "      <th></th>\n",
       "      <th>Day</th>\n",
       "      <th>Date</th>\n",
       "      <th>Holiday Name</th>\n",
       "      <th>Type</th>\n",
       "      <th>Comments</th>\n",
       "    </tr>\n",
       "  </thead>\n",
       "  <tbody>\n",
       "    <tr>\n",
       "      <th>0</th>\n",
       "      <td>Saturday</td>\n",
       "      <td>Jan 01</td>\n",
       "      <td>New Year's Day</td>\n",
       "      <td>National Holiday</td>\n",
       "      <td>Regular holiday</td>\n",
       "    </tr>\n",
       "    <tr>\n",
       "      <th>1</th>\n",
       "      <td>Tuesday</td>\n",
       "      <td>Feb 01</td>\n",
       "      <td>Chinese New Year</td>\n",
       "      <td>National Holiday</td>\n",
       "      <td>Special non-working day</td>\n",
       "    </tr>\n",
       "    <tr>\n",
       "      <th>2</th>\n",
       "      <td>Friday</td>\n",
       "      <td>Feb 25</td>\n",
       "      <td>People Power Revolution</td>\n",
       "      <td>National Holiday</td>\n",
       "      <td>Special Non-working day</td>\n",
       "    </tr>\n",
       "    <tr>\n",
       "      <th>3</th>\n",
       "      <td>Wednesday</td>\n",
       "      <td>Mar 16</td>\n",
       "      <td>Davao City Day</td>\n",
       "      <td>Regional Holiday</td>\n",
       "      <td>Davao City</td>\n",
       "    </tr>\n",
       "    <tr>\n",
       "      <th>4</th>\n",
       "      <td>Saturday</td>\n",
       "      <td>Apr 09</td>\n",
       "      <td>The Day of Valor</td>\n",
       "      <td>National Holiday</td>\n",
       "      <td>Regular holiday</td>\n",
       "    </tr>\n",
       "    <tr>\n",
       "      <th>5</th>\n",
       "      <td>Thursday</td>\n",
       "      <td>Apr 14</td>\n",
       "      <td>Maundy Thursday</td>\n",
       "      <td>National Holiday</td>\n",
       "      <td>Regular holiday</td>\n",
       "    </tr>\n",
       "    <tr>\n",
       "      <th>6</th>\n",
       "      <td>Friday</td>\n",
       "      <td>Apr 15</td>\n",
       "      <td>Good Friday</td>\n",
       "      <td>National Holiday</td>\n",
       "      <td>Regular holiday</td>\n",
       "    </tr>\n",
       "    <tr>\n",
       "      <th>7</th>\n",
       "      <td>Saturday</td>\n",
       "      <td>Apr 16</td>\n",
       "      <td>Black Saturday</td>\n",
       "      <td>National Holiday</td>\n",
       "      <td>Special Non-working day</td>\n",
       "    </tr>\n",
       "    <tr>\n",
       "      <th>8</th>\n",
       "      <td>Sunday</td>\n",
       "      <td>May 01</td>\n",
       "      <td>Labor Day</td>\n",
       "      <td>National Holiday</td>\n",
       "      <td>Regular holiday</td>\n",
       "    </tr>\n",
       "    <tr>\n",
       "      <th>9</th>\n",
       "      <td>Tuesday</td>\n",
       "      <td>May 03</td>\n",
       "      <td>Eid'l Fitr</td>\n",
       "      <td>National Holiday</td>\n",
       "      <td>End of Ramadan</td>\n",
       "    </tr>\n",
       "    <tr>\n",
       "      <th>10</th>\n",
       "      <td>Sunday</td>\n",
       "      <td>Jun 12</td>\n",
       "      <td>Independence Day</td>\n",
       "      <td>National Holiday</td>\n",
       "      <td>Regular holiday</td>\n",
       "    </tr>\n",
       "    <tr>\n",
       "      <th>11</th>\n",
       "      <td>Friday</td>\n",
       "      <td>Jun 24</td>\n",
       "      <td>Manila Day</td>\n",
       "      <td>Regional Holiday</td>\n",
       "      <td>Manila only</td>\n",
       "    </tr>\n",
       "    <tr>\n",
       "      <th>12</th>\n",
       "      <td>Sunday</td>\n",
       "      <td>Jul 10</td>\n",
       "      <td>Eidul Adha</td>\n",
       "      <td>National Holiday</td>\n",
       "      <td>Sacrifice Feast. Date to be confirmed.</td>\n",
       "    </tr>\n",
       "    <tr>\n",
       "      <th>13</th>\n",
       "      <td>Friday</td>\n",
       "      <td>Aug 19</td>\n",
       "      <td>Birthday of Manuel L Quezon</td>\n",
       "      <td>Regional Holiday</td>\n",
       "      <td>Quezon City, Quezon and Aurora provinces</td>\n",
       "    </tr>\n",
       "    <tr>\n",
       "      <th>14</th>\n",
       "      <td>Sunday</td>\n",
       "      <td>Aug 21</td>\n",
       "      <td>Ninoy Aquino Day</td>\n",
       "      <td>National Holiday</td>\n",
       "      <td>Special Non-working day</td>\n",
       "    </tr>\n",
       "    <tr>\n",
       "      <th>15</th>\n",
       "      <td>Monday</td>\n",
       "      <td>Aug 29</td>\n",
       "      <td>National Heroes' Day</td>\n",
       "      <td>National Holiday</td>\n",
       "      <td>Regular holiday. Last Monday of August</td>\n",
       "    </tr>\n",
       "    <tr>\n",
       "      <th>16</th>\n",
       "      <td>Tuesday</td>\n",
       "      <td>Nov 01</td>\n",
       "      <td>All Saints' Day</td>\n",
       "      <td>National Holiday</td>\n",
       "      <td>Special Non-working day</td>\n",
       "    </tr>\n",
       "    <tr>\n",
       "      <th>17</th>\n",
       "      <td>Wednesday</td>\n",
       "      <td>Nov 02</td>\n",
       "      <td>All Souls' Day</td>\n",
       "      <td>Not A Public Holiday</td>\n",
       "      <td>Special working day</td>\n",
       "    </tr>\n",
       "    <tr>\n",
       "      <th>18</th>\n",
       "      <td>Wednesday</td>\n",
       "      <td>Nov 30</td>\n",
       "      <td>Bonifacio Day</td>\n",
       "      <td>National Holiday</td>\n",
       "      <td>Regular holiday</td>\n",
       "    </tr>\n",
       "    <tr>\n",
       "      <th>19</th>\n",
       "      <td>Thursday</td>\n",
       "      <td>Dec 08</td>\n",
       "      <td>Immaculate Conception Day</td>\n",
       "      <td>National Holiday</td>\n",
       "      <td>Special non-working holiday from 2018</td>\n",
       "    </tr>\n",
       "    <tr>\n",
       "      <th>20</th>\n",
       "      <td>Saturday</td>\n",
       "      <td>Dec 24</td>\n",
       "      <td>Christmas Eve</td>\n",
       "      <td>Not A Public Holiday</td>\n",
       "      <td>Special working day</td>\n",
       "    </tr>\n",
       "    <tr>\n",
       "      <th>21</th>\n",
       "      <td>Sunday</td>\n",
       "      <td>Dec 25</td>\n",
       "      <td>Christmas Day</td>\n",
       "      <td>National Holiday</td>\n",
       "      <td>Regular holiday</td>\n",
       "    </tr>\n",
       "    <tr>\n",
       "      <th>22</th>\n",
       "      <td>Friday</td>\n",
       "      <td>Dec 30</td>\n",
       "      <td>Rizal Day</td>\n",
       "      <td>National Holiday</td>\n",
       "      <td>Regular holiday</td>\n",
       "    </tr>\n",
       "    <tr>\n",
       "      <th>23</th>\n",
       "      <td>Saturday</td>\n",
       "      <td>Dec 31</td>\n",
       "      <td>New Year's Eve</td>\n",
       "      <td>Not A Public Holiday</td>\n",
       "      <td>Special working day</td>\n",
       "    </tr>\n",
       "  </tbody>\n",
       "</table>\n",
       "</div>"
      ],
      "text/plain": [
       "          Day    Date                 Holiday Name                  Type  \\\n",
       "0    Saturday  Jan 01               New Year's Day      National Holiday   \n",
       "1     Tuesday  Feb 01             Chinese New Year      National Holiday   \n",
       "2      Friday  Feb 25      People Power Revolution      National Holiday   \n",
       "3   Wednesday  Mar 16               Davao City Day      Regional Holiday   \n",
       "4    Saturday  Apr 09             The Day of Valor      National Holiday   \n",
       "5    Thursday  Apr 14              Maundy Thursday      National Holiday   \n",
       "6      Friday  Apr 15                  Good Friday      National Holiday   \n",
       "7    Saturday  Apr 16               Black Saturday      National Holiday   \n",
       "8      Sunday  May 01                    Labor Day      National Holiday   \n",
       "9     Tuesday  May 03                   Eid'l Fitr      National Holiday   \n",
       "10     Sunday  Jun 12             Independence Day      National Holiday   \n",
       "11     Friday  Jun 24                   Manila Day      Regional Holiday   \n",
       "12     Sunday  Jul 10                   Eidul Adha      National Holiday   \n",
       "13     Friday  Aug 19  Birthday of Manuel L Quezon      Regional Holiday   \n",
       "14     Sunday  Aug 21             Ninoy Aquino Day      National Holiday   \n",
       "15     Monday  Aug 29         National Heroes' Day      National Holiday   \n",
       "16    Tuesday  Nov 01              All Saints' Day      National Holiday   \n",
       "17  Wednesday  Nov 02               All Souls' Day  Not A Public Holiday   \n",
       "18  Wednesday  Nov 30                Bonifacio Day      National Holiday   \n",
       "19   Thursday  Dec 08    Immaculate Conception Day      National Holiday   \n",
       "20   Saturday  Dec 24                Christmas Eve  Not A Public Holiday   \n",
       "21     Sunday  Dec 25                Christmas Day      National Holiday   \n",
       "22     Friday  Dec 30                    Rizal Day      National Holiday   \n",
       "23   Saturday  Dec 31               New Year's Eve  Not A Public Holiday   \n",
       "\n",
       "                                    Comments  \n",
       "0                            Regular holiday  \n",
       "1                    Special non-working day  \n",
       "2                    Special Non-working day  \n",
       "3                                 Davao City  \n",
       "4                            Regular holiday  \n",
       "5                            Regular holiday  \n",
       "6                            Regular holiday  \n",
       "7                    Special Non-working day  \n",
       "8                            Regular holiday  \n",
       "9                             End of Ramadan  \n",
       "10                           Regular holiday  \n",
       "11                               Manila only  \n",
       "12    Sacrifice Feast. Date to be confirmed.  \n",
       "13  Quezon City, Quezon and Aurora provinces  \n",
       "14                   Special Non-working day  \n",
       "15    Regular holiday. Last Monday of August  \n",
       "16                   Special Non-working day  \n",
       "17                       Special working day  \n",
       "18                           Regular holiday  \n",
       "19     Special non-working holiday from 2018  \n",
       "20                       Special working day  \n",
       "21                           Regular holiday  \n",
       "22                           Regular holiday  \n",
       "23                       Special working day  "
      ]
     },
     "metadata": {},
     "output_type": "display_data"
    },
    {
     "name": "stdout",
     "output_type": "stream",
     "text": [
      "DONE CREATING holidays FILE\n"
     ]
    }
   ],
   "source": [
    "create_entity_file('holidays', replace=True)\n"
   ]
  },
  {
   "cell_type": "code",
   "execution_count": null,
   "metadata": {},
   "outputs": [],
   "source": []
  }
 ],
 "metadata": {
  "interpreter": {
   "hash": "cef9e06bb236b2a8629b07e87a04b187b952a0f661eff5533360a155783f0c33"
  },
  "kernelspec": {
   "display_name": "Python 3.8.11 ('base')",
   "language": "python",
   "name": "python3"
  },
  "language_info": {
   "codemirror_mode": {
    "name": "ipython",
    "version": 3
   },
   "file_extension": ".py",
   "mimetype": "text/x-python",
   "name": "python",
   "nbconvert_exporter": "python",
   "pygments_lexer": "ipython3",
   "version": "3.8.12"
  },
  "orig_nbformat": 4
 },
 "nbformat": 4,
 "nbformat_minor": 2
}
