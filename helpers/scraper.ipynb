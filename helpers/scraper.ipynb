{
 "cells": [
  {
   "cell_type": "markdown",
   "metadata": {},
   "source": [
    "### Get Local Tourist Destinations"
   ]
  },
  {
   "cell_type": "code",
   "execution_count": null,
   "metadata": {},
   "outputs": [],
   "source": [
    "from bs4 import BeautifulSoup, NavigableString\n",
    "import requests\n",
    "from selenium import webdriver\n",
    "\n",
    "def scrape_tourist_dest_list():\n",
    "   tourist_dest_url = 'https://www.traveling-up.com/travel-guide-81-provinces-of-the-philippines'\n",
    "\n",
    "   driver = webdriver.Firefox(executable_path='geckodriver.exe')\n",
    "   driver.get(tourist_dest_url)\n",
    "   html = driver.page_source\n",
    "\n",
    "   data = BeautifulSoup(html,'lxml')\n",
    "   ul_list= data.find(\"div\",{\"class\":\"entry-content\"}).find_all(\"ul\")\n",
    "\n",
    "   tourist_dest_list = []\n",
    "   for ul in ul_list:\n",
    "      li_children = ul.findChildren(\"li\", recursive=False)\n",
    "      for li in li_children:\n",
    "         if type(li) == NavigableString:\n",
    "            continue\n",
    "         elif 'Top tourist spots:' in li.text:\n",
    "            # Remove top tourist spots from the text and get the 2nd item which is \n",
    "            # texts with tourist destinations that are separated by comma\n",
    "            cleaned_tourist_dest = li.text.split('Top tourist spots:')[1]\n",
    "            # Split the text to get items as list\n",
    "            cleaned_tourist_dest = cleaned_tourist_dest.split(',')\n",
    "            # Get only the data that comes before a parentheses\n",
    "            # Get the lower case \n",
    "            # Remove 'xa0' character using space\n",
    "            cleaned_tourist_dest = [dest.split('(')[0]\n",
    "                                    .lower()\n",
    "                                    .strip()\n",
    "                                    .replace(u'\\xa0',' ')\n",
    "                                    for dest in cleaned_tourist_dest]\n",
    "            # Remove empty strings from the list\n",
    "            cleaned_tourist_dest = list(filter(None, cleaned_tourist_dest))\n",
    "            # Finally append values to the tourist_dest_list\n",
    "            tourist_dest_list = tourist_dest_list + cleaned_tourist_dest\n",
    "   print('DONE SCRAPING...')\n",
    "   return tourist_dest_list"
   ]
  },
  {
   "cell_type": "code",
   "execution_count": null,
   "metadata": {},
   "outputs": [],
   "source": [
    "from pathlib import Path\n",
    "\n",
    "def create_tourist_dest_file():\n",
    "   path = Path('../res/raw/tourist_dest.txt')\n",
    "   if not path.is_file():\n",
    "      tourist_dest_list = scrape_tourist_dest_list()\n",
    "      tourist_dest_file = open('../res/raw/tourist_dest.txt', \"w\")\n",
    "      for dest in tourist_dest_list:\n",
    "         tourist_dest_file.write(f'{dest}\\n')\n",
    "   print('DONE CREATING TOURIST DEST FILE')\n",
    "\n",
    "\n",
    "create_tourist_dest_file()\n"
   ]
  },
  {
   "cell_type": "markdown",
   "metadata": {},
   "source": [
    "### Get Surnames"
   ]
  },
  {
   "cell_type": "code",
   "execution_count": null,
   "metadata": {},
   "outputs": [],
   "source": [
    "import requests\n",
    "\n",
    "url = 'https://baguiocityguide.com/how-common-is-your-last-name-here-are-the-top-1000-filipino-surnames'\n",
    "\n",
    "header = {\n",
    "    \"User-Agent\": \"Mozilla/5.0 (X11; Linux x86_64) AppleWebKit/537.36 (KHTML, like Gecko) Chrome/50.0.2661.75 Safari/537.36\",\n",
    "    \"X-Requested-With\": \"XMLHttpRequest\"\n",
    "}\n",
    "\n",
    "r = requests.get(url, headers=header)\n",
    "dfs = pd.read_html(r.text)\n",
    "\n",
    "surnames_list = []\n",
    "for table in dfs:\n",
    "    surnames = [surname.lower() for surname in table['Surname'].to_list()]\n",
    "    surnames_list = surnames_list + surnames\n"
   ]
  }
 ],
 "metadata": {
  "interpreter": {
   "hash": "cef9e06bb236b2a8629b07e87a04b187b952a0f661eff5533360a155783f0c33"
  },
  "kernelspec": {
   "display_name": "Python 3.8.11 ('base')",
   "language": "python",
   "name": "python3"
  },
  "language_info": {
   "codemirror_mode": {
    "name": "ipython",
    "version": 3
   },
   "file_extension": ".py",
   "mimetype": "text/x-python",
   "name": "python",
   "nbconvert_exporter": "python",
   "pygments_lexer": "ipython3",
   "version": "3.8.11"
  },
  "orig_nbformat": 4
 },
 "nbformat": 4,
 "nbformat_minor": 2
}
