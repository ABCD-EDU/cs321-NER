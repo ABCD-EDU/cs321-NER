{
 "cells": [
  {
   "cell_type": "markdown",
   "metadata": {},
   "source": [
    "### Get sentence data"
   ]
  },
  {
   "cell_type": "code",
   "execution_count": 6,
   "metadata": {},
   "outputs": [],
   "source": [
    "import spacy\n",
    "import random\n",
    "import spacy.cli"
   ]
  },
  {
   "cell_type": "code",
   "execution_count": null,
   "metadata": {},
   "outputs": [],
   "source": [
    "TRAIN_DATA = [#Article 1\n",
    "        (\"CEBU CITY, Philippines – Despite concerns on health, safety, and crowd control, the Cebu City Government is inclined to hold another concert here.\",\n",
    "        {\"entities\":[(0,9,\"GPE\"),(84,93,\"GPE\")]\n",
    "        }),\n",
    "        (\"This time, it will be in the South Road Properties (SRP), said Mayor Michael Rama. \",\n",
    "        {\"entities\":[(69,76,\"PER\"),(77,81,\"PER\")]\n",
    "        }),\n",
    "        (\"I can assure you, as the mayor of City of Cebu, we will have another concert at the SRP. \",\n",
    "        {\"entities\":[(42,46,\"GPE\")]\n",
    "        }),\n",
    "        (\"With that, we will be able to accommodate all,” said Rama in a press interview following the Arat na Cebu concert held Saturday, March 26. \",\n",
    "        {\"entities\":[(53,57,\"PER\"),(101,105,\"GPE\")]\n",
    "        }),\n",
    "        ]"
   ]
  },
  {
   "cell_type": "code",
   "execution_count": null,
   "metadata": {},
   "outputs": [],
   "source": []
  },
  {
   "cell_type": "code",
   "execution_count": null,
   "metadata": {},
   "outputs": [],
   "source": []
  }
 ],
 "metadata": {
  "interpreter": {
   "hash": "7dee54ed7ad46e2e610ac5d1f2b33a2e646d3f5b285777520e9e1603f976399c"
  },
  "kernelspec": {
   "display_name": "Python 3 (ipykernel)",
   "language": "python",
   "name": "python3"
  },
  "language_info": {
   "codemirror_mode": {
    "name": "ipython",
    "version": 3
   },
   "file_extension": ".py",
   "mimetype": "text/x-python",
   "name": "python",
   "nbconvert_exporter": "python",
   "pygments_lexer": "ipython3",
   "version": "3.9.7"
  }
 },
 "nbformat": 4,
 "nbformat_minor": 4
}
