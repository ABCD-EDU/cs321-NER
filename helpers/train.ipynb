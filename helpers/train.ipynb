{
 "cells": [
  {
   "cell_type": "code",
   "execution_count": 126,
   "metadata": {},
   "outputs": [],
   "source": [
    "import requests\n",
    "from bs4 import BeautifulSoup\n",
    "import pandas as pd\n",
    "import urllib\n",
    "import re\n",
    "\n"
   ]
  },
  {
   "cell_type": "code",
   "execution_count": 127,
   "metadata": {},
   "outputs": [
    {
     "name": "stdout",
     "output_type": "stream",
     "text": [
      "This drone shot of the “Arat na Cebu” concert shows a jampacked Cebu City Sports Center. | Photo courtesy of the “Arat na Cebu” concert organizers\n",
      "               \n",
      "CEBU CITY, Philippines – Despite concerns on health, safety, and crowd control, the Cebu City Government is inclined to hold another concert here.\n",
      "               \n",
      "This time, it will be in the South Road Properties (SRP), said Mayor Michael Rama. \n",
      "               \n",
      "“I can assure you, as the mayor of City of Cebu, we will have another concert at the SRP. With that, we will be able to accommodate all,” said Rama in a press interview following the Arat na Cebu concert held Saturday, March 26.\n",
      "               \n",
      "Arat na Cebu was the first concert held in the city nearly two years since COVID-driven lockdowns banned crowd-gathering events.\n",
      "               \n",
      "According to police, an estimated 100,000 individuals flocked to the Cebu City Sports Center (CCSC), and areas within its vicinity, to join the event. \n",
      "               \n",
      "CCSC can only accommodate a maximum of 40,000 people, including the grandstands but police officials said they only allowed a maximum of 25,000 people inside the venue.\n",
      "\n",
      "\n",
      "\n",
      "\n",
      "               \n",
      " \n",
      "               \n",
      "This also means that most of the attendees were staying outside the venue. \n",
      "               \n",
      "“Daghan pa kaayo unta ta nga wa kasulod unya atong gicontrol ang atong crowd sa sulod kay delikado gyud nga sobra kadaghan,” said Police Lt. Col. Wilbert Parilla, deputy director for operations of the Cebu City Police Office (CCPO). \n",
      "               \n",
      "“Unya grabe ka hyper atong audience kay puro mga batan-on and for the first time, in two years, karun pa ta kabuhat ug activity nga ingon ani kadako,” he added. \n",
      "               \n",
      "Some of the guests during Saturday’s concert included popular bands like December Avenue, Missing Filemon, rappers Shanti Dope, Gloc 9, singers Jacky Chang, Michael Pangilinan, and actress AJ Raval. \n",
      "               \n",
      "Rama and several of Barug-PDP Laban’s slate were also present in the event as “special guests.”\n",
      "               \n",
      "But the mayor reiterated that the concert was not a political gathering and that they were merely invited to attend. \n",
      "               \n",
      "“It’s not our activity. Invited lang mi,” Rama added.\n",
      "               \n",
      "\n",
      "               \n",
      "RELATED STORIES\n",
      "               \n",
      "Stampede, defiance of health protocols mar Arat na Cebu concert\n",
      "               \n",
      "Organizers: Arat na Cebu Concert not a political event\n",
      "               \n",
      "/dcb\n",
      "               \n",
      "Disclaimer: The comments uploaded on this site do not necessarily represent or reflect the views of management and owner of Cebudailynews. We reserve the right to exclude comments that we deem to be inconsistent with our editorial standards.\n",
      "               \n",
      "By providing an email address. I agree to the Terms of Use and\n",
      "acknowledge that I have read the Privacy Policy.\n",
      "               \n",
      "We use cookies to ensure you get the best experience on our website. By continuing, you are agreeing to our use of cookies. To find out more, please click this link.\n",
      "               \n"
     ]
    }
   ],
   "source": [
    "# target URL to scrap\n",
    "url = \"https://cebudailynews.inquirer.net/432173/cebu-city-govt-keen-to-hold-another-concert/\"\n",
    "# headers\n",
    "headers = {\n",
    "    'User-Agent': \"Mozilla/5.0 (X11; Linux x86_64) AppleWebKit/537.36 (KHTML, like Gecko) Chrome/77.0.3865.90 Safari/537.36\"\n",
    "    }\n",
    "\n",
    "response = requests.request(\"GET\", url, headers=headers)\n",
    "data = BeautifulSoup(response.text, 'html.parser')\n",
    "\n",
    "for tag in data.find_all('p'):\n",
    "    tag.find_all(re.compile(\".*\"), text=lambda text: text and the_word in text)\n",
    "    print(tag.getText())\n",
    "    print(' ' * 15)"
   ]
  },
  {
   "cell_type": "code",
   "execution_count": 129,
   "metadata": {},
   "outputs": [
    {
     "data": {
      "text/plain": [
       "'CEBU CITY, Philippines – Despite concerns on health, safety, and crowd control, the Cebu City Government is inclined to hold another concert here.'"
      ]
     },
     "execution_count": 129,
     "metadata": {},
     "output_type": "execute_result"
    }
   ],
   "source": [
    "data.find_all('p')[1].getText()"
   ]
  },
  {
   "cell_type": "code",
   "execution_count": 133,
   "metadata": {},
   "outputs": [
    {
     "name": "stdout",
     "output_type": "stream",
     "text": [
      "start: 53 | end: 57\n",
      "start: 101 | end: 105\n"
     ]
    }
   ],
   "source": [
    "\n",
    "matched_ents = ['Rama','Cebu']\n",
    "sample_text = 'With that, we will be able to accommodate all,” said Rama in a press interview following the Arat na Cebu concert held Saturday, March 26.'\n",
    "\n",
    "sample_text = ' '.join(sample_text.split(','))\n",
    "for ent in matched_ents:\n",
    "  start_idx = sample_text.find(ent)\n",
    "  if start_idx==-1:\n",
    "    ent_words = ent.split(' ')\n",
    "    # If more than two words yung entity\n",
    "    if len(ent_words) > 1 and ent in sample_text:\n",
    "      ent_first_word = ent_words[0]\n",
    "      ent_last_word = ent_words[len(ent_words)-1]\n",
    "      start_idx = sample_text.find(ent_first_word)\n",
    "      end_idx = sample_text.find(ent_last_word)\n",
    "      end_idx = end_idx + len(ent_last_word)-1\n",
    "    else:\n",
    "      continue\n",
    "  else:\n",
    "    end_idx = start_idx+len(ent)\n",
    "\n",
    "  print(f'start: {start_idx} | end: {end_idx}')"
   ]
  },
  {
   "cell_type": "code",
   "execution_count": null,
   "metadata": {},
   "outputs": [],
   "source": []
  }
 ],
 "metadata": {
  "interpreter": {
   "hash": "170ea55e72c9a6d436324f87cb5984f47e0a25904d1bb1971b2eebba4be330f3"
  },
  "kernelspec": {
   "display_name": "Python 3 (ipykernel)",
   "language": "python",
   "name": "python3"
  },
  "language_info": {
   "codemirror_mode": {
    "name": "ipython",
    "version": 3
   },
   "file_extension": ".py",
   "mimetype": "text/x-python",
   "name": "python",
   "nbconvert_exporter": "python",
   "pygments_lexer": "ipython3",
   "version": "3.9.7"
  }
 },
 "nbformat": 4,
 "nbformat_minor": 4
}
