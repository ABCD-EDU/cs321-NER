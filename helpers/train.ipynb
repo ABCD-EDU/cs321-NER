{
 "cells": [
  {
   "cell_type": "code",
   "execution_count": 1,
   "metadata": {},
   "outputs": [],
   "source": [
    "import spacy\n",
    "import random\n",
    "import spacy.cli"
   ]
  },
  {
   "cell_type": "code",
   "execution_count": null,
   "metadata": {},
   "outputs": [],
   "source": [
    "TRAIN_DATA = [\n",
    "        (\"CEBU CITY, Philippines – Despite concerns on health, safety, and crowd control, the Cebu City Government is inclined to hold another concert here.\",\n",
    "        {\"entities\":[(0,9,\"GPE\"),(84,93,\"GPE\")]\n",
    "        }),\n",
    "        (\"This time, it will be in the South Road Properties (SRP), said Mayor Michael Rama. \",\n",
    "        {\"entities\":[(0,0,\"PER\"),(0,0,\"GPE\")]\n",
    "        })\n",
    "        ]"
   ]
  }
 ],
 "metadata": {
  "interpreter": {
   "hash": "170ea55e72c9a6d436324f87cb5984f47e0a25904d1bb1971b2eebba4be330f3"
  },
  "kernelspec": {
   "display_name": "Python 3 (ipykernel)",
   "language": "python",
   "name": "python3"
  },
  "language_info": {
   "codemirror_mode": {
    "name": "ipython",
    "version": 3
   },
   "file_extension": ".py",
   "mimetype": "text/x-python",
   "name": "python",
   "nbconvert_exporter": "python",
   "pygments_lexer": "ipython3",
   "version": "3.9.7"
  }
 },
 "nbformat": 4,
 "nbformat_minor": 4
}
