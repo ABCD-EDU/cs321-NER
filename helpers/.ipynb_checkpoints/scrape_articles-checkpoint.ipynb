{
 "cells": [
  {
   "cell_type": "code",
   "execution_count": 118,
   "metadata": {},
   "outputs": [],
   "source": [
    "import requests\n",
    "from bs4 import BeautifulSoup\n",
    "import pandas as pd\n",
    "import urllib\n",
    "import re\n",
    "\n"
   ]
  },
  {
   "cell_type": "code",
   "execution_count": null,
   "metadata": {},
   "outputs": [],
   "source": [
    "# target URL to scrap\n",
    "url = \"https://cebudailynews.inquirer.net/432173/cebu-city-govt-keen-to-hold-another-concert/\"\n",
    "# headers\n",
    "headers = {\n",
    "    'User-Agent': \"Mozilla/5.0 (X11; Linux x86_64) AppleWebKit/537.36 (KHTML, like Gecko) Chrome/77.0.3865.90 Safari/537.36\"\n",
    "}\n",
    "\n",
    "response = requests.request(\"GET\", url, headers=headers)\n",
    "data = BeautifulSoup(response.text, 'html.parser')\n",
    "\n",
    "for tag in data.find_all('p'):\n",
    "    tag.find_all(re.compile(\".*\"))\n",
    "    print(tag.getText())\n",
    "    print(' ' * 15)"
   ]
  },
  {
   "cell_type": "code",
   "execution_count": 120,
   "metadata": {},
   "outputs": [
    {
     "data": {
      "text/plain": [
       "'CEBU CITY, Philippines – Despite concerns on health, safety, and crowd control, the Cebu City Government is inclined to hold another concert here.'"
      ]
     },
     "execution_count": 120,
     "metadata": {},
     "output_type": "execute_result"
    }
   ],
   "source": [
    "data.find_all('p')[1].getText()"
   ]
  },
  {
   "cell_type": "code",
   "execution_count": 121,
   "metadata": {},
   "outputs": [],
   "source": [
    "import pyparsing as pp\n",
    "import re\n",
    "import pandas as pd\n",
    "\n",
    "candidate_ents = []\n",
    "tags = []\n",
    "wrtite_array = []\n",
    "file = open('../res/preprocessed/final_dataset.csv',encoding='utf8')\n",
    "COMMA_MATCHER = re.compile(r\",(?=(?:[^\\\"']*[\\\"'][^\\\"']*[\\\"'])*[^\\\"']*$)\")\n",
    "with file as final_dataset:\n",
    "  next(final_dataset)  \n",
    "  for line in final_dataset:\n",
    "    new_line = COMMA_MATCHER.split(line)\n",
    "    new_line[0].strip('\"')\n",
    "    new_line[0].strip('/')\n",
    "    candidate_ents.append(new_line[0])\n",
    "    tags.append(new_line[1])\n",
    "\n",
    "file.close()\n",
    "\n",
    "sample_text = 'With that, we will be able to accommodate all,” said Rama in a press interview following the Arat na Cebu concert held Saturday, March 26.'\n",
    "\n",
    "\n",
    "write_file = open('../res/raw/entities.csv',encoding='utf8', mode='a')\n",
    "def printEntitiesToCSV(sample_text, candidate_ents): #Only prints out, haven't finished yet\n",
    "    sample_text = ' '.join(sample_text.lower().split(','))\n",
    "    row_pos = 0\n",
    "\n",
    "    for ent in candidate_ents:\n",
    "        row_pos+=1\n",
    "        start_idx = sample_text.find(ent)\n",
    "        if start_idx == -1:\n",
    "            \n",
    "            ent_words = ent.split(' ')\n",
    "            # If more than two words yung entity\n",
    "            if len(ent_words) > 1 and ent in sample_text:\n",
    "                print(ent)\n",
    "                ent_first_word = ent_words[0]\n",
    "                ent_last_word = ent_words[len(ent_words)-1]\n",
    "                start_idx = sample_text.find(ent_first_word)\n",
    "                end_idx = sample_text.find(ent_last_word)\n",
    "                end_idx = end_idx + len(ent_last_word)-1\n",
    "            else:\n",
    "                continue\n",
    "        else:\n",
    "            print(ent)\n",
    "            end_idx = start_idx+len(ent)\n",
    "\n",
    "        print(f'start: {start_idx} | end: {end_idx} | Tag: {tags[row_pos]}')\n",
    "        wrtite_array.append(sample_text + \",\" + ent + \",\" + str(start_idx) + \",\" + str(end_idx) + \",\" + tags[row_pos])\n",
    "\n",
    "    for line in wrtite_array:\n",
    "        write_file.write(line.strip())\n"
   ]
  },
  {
   "cell_type": "code",
   "execution_count": 122,
   "metadata": {},
   "outputs": [
    {
     "name": "stdout",
     "output_type": "stream",
     "text": [
      "marc\n",
      "start: 129 | end: 133 | Tag: PER\n",
      "\n",
      "cebu\n",
      "start: 101 | end: 105 | Tag: GPE\n",
      "\n",
      "rama\n",
      "start: 53 | end: 57 | Tag: PER\n",
      "\n"
     ]
    }
   ],
   "source": [
    "printEntitiesToCSV(sample_text=sample_text,candidate_ents=candidate_ents)\n"
   ]
  }
 ],
 "metadata": {
  "interpreter": {
   "hash": "170ea55e72c9a6d436324f87cb5984f47e0a25904d1bb1971b2eebba4be330f3"
  },
  "kernelspec": {
   "display_name": "Python 3 (ipykernel)",
   "language": "python",
   "name": "python3"
  },
  "language_info": {
   "codemirror_mode": {
    "name": "ipython",
    "version": 3
   },
   "file_extension": ".py",
   "mimetype": "text/x-python",
   "name": "python",
   "nbconvert_exporter": "python",
   "pygments_lexer": "ipython3",
   "version": "3.9.12"
  }
 },
 "nbformat": 4,
 "nbformat_minor": 4
}
