{
 "cells": [
  {
   "cell_type": "code",
   "execution_count": 11,
   "metadata": {},
   "outputs": [],
   "source": [
    "# !pip3 install torch torchvision torchaudio --extra-index-url https://download.pytorch.org/whl/cu115\n",
    "# !pip install pandas\n",
    "# !python -m pip uninstall -y spacy\n",
    "# !python -m pip install -U spacy\n",
    "# !pip install -U pip setuptools wheel\n",
    "# !pip install spacy-transformers\n",
    "!python -m spacy download en_core_web_sm\n",
    "# # !pip install -U spacy[cuda101]\n",
    "# !pip install -U spacy[cuda]\n",
    "# !pip install tqdm"
   ]
  },
  {
   "cell_type": "code",
   "execution_count": 12,
   "metadata": {},
   "outputs": [],
   "source": [
    "TRAIN_DATA = [\n",
    "    (\"Walmart is a leading e-commerce company\", {\"entities\": [(1, 7, \"ORG\")]}),\n",
    "    (\"I reached Chennai yesterday.\", {\n",
    "        \"entities\": [(19, 28, \"GPE\")]}),\n",
    "    (\"I recently ordered a book from Amazon\", {\"entities\": [(24, 32, \"ORG\")]}),\n",
    "    (\"I was driving a BMW\", {\"entities\": [(16, 19, \"PRODUCT\")]}),\n",
    "    (\"I ordered this from ShopClues\", {\"entities\": [(20, 29, \"ORG\")]}),\n",
    "    (\"Fridge can be ordered in Amazon \", {\"entities\": [(0, 6, \"PRODUCT\")]}),\n",
    "    (\"I bought a new Washer\", {\"entities\": [(16, 22, \"PRODUCT\")]}),\n",
    "    (\"I bought a old table\", {\"entities\": [(16, 21, \"PRODUCT\")]}),\n",
    "    (\"I bought a fancy dress\", {\"entities\": [(18, 23, \"PRODUCT\")]}),\n",
    "    (\"I rented a camera\", {\"entities\": [(12, 18, \"PRODUCT\")]}),\n",
    "    (\"I rented a tent for our trip\", {\"entities\": [(12, 16, \"PRODUCT\")]}),\n",
    "    (\"I rented a screwdriver from our neighbour\",\n",
    "     {\"entities\": [(12, 22, \"PRODUCT\")]}),\n",
    "    (\"I repaired my computer\", {\"entities\": [(15, 23, \"PRODUCT\")]}),\n",
    "    (\"I got my clock fixed\", {\"entities\": [(16, 21, \"PRODUCT\")]}),\n",
    "    (\"I got my truck fixed\", {\"entities\": [(16, 21, \"PRODUCT\")]}),\n",
    "    (\"Flipkart started it's journey from zero\", {\"entities\": [(0, 8, \"ORG\")]}),\n",
    "    (\"I recently ordered from Max\", {\"entities\": [(24, 27, \"ORG\")]}),\n",
    "    (\"Flipkart is recognized as leader in market\",\n",
    "     {\"entities\": [(0, 8, \"ORG\")]}),\n",
    "    (\"I recently ordered from Swiggy\", {\"entities\": [(24, 30, \"ORG\")]})\n",
    "]\n"
   ]
  },
  {
   "cell_type": "code",
   "execution_count": 13,
   "metadata": {},
   "outputs": [
    {
     "ename": "AttributeError",
     "evalue": "module 'cupy' has no attribute 'get_array_module'",
     "output_type": "error",
     "traceback": [
      "\u001b[1;31m---------------------------------------------------------------------------\u001b[0m",
      "\u001b[1;31mAttributeError\u001b[0m                            Traceback (most recent call last)",
      "Input \u001b[1;32mIn [13]\u001b[0m, in \u001b[0;36m<cell line: 4>\u001b[1;34m()\u001b[0m\n\u001b[0;32m      2\u001b[0m \u001b[38;5;28;01mimport\u001b[39;00m \u001b[38;5;21;01mos\u001b[39;00m\n\u001b[0;32m      3\u001b[0m \u001b[38;5;28;01mfrom\u001b[39;00m \u001b[38;5;21;01mtqdm\u001b[39;00m \u001b[38;5;28;01mimport\u001b[39;00m tqdm\n\u001b[1;32m----> 4\u001b[0m \u001b[38;5;28;01mimport\u001b[39;00m \u001b[38;5;21;01mspacy\u001b[39;00m\n\u001b[0;32m      5\u001b[0m \u001b[38;5;28;01mfrom\u001b[39;00m \u001b[38;5;21;01mspacy\u001b[39;00m\u001b[38;5;21;01m.\u001b[39;00m\u001b[38;5;21;01mtokens\u001b[39;00m \u001b[38;5;28;01mimport\u001b[39;00m DocBin\n\u001b[0;32m      6\u001b[0m \u001b[38;5;66;03m# import en_core_web_sm\u001b[39;00m\n\u001b[0;32m      7\u001b[0m \u001b[38;5;66;03m# nlp = en_core_web_sm.load()\u001b[39;00m\n",
      "File \u001b[1;32m~\\anaconda3\\envs\\buzz\\lib\\site-packages\\spacy\\__init__.py:11\u001b[0m, in \u001b[0;36m<module>\u001b[1;34m\u001b[0m\n\u001b[0;32m      8\u001b[0m setup_default_warnings()  \u001b[38;5;66;03m# noqa: E402\u001b[39;00m\n\u001b[0;32m     10\u001b[0m \u001b[38;5;66;03m# These are imported as part of the API\u001b[39;00m\n\u001b[1;32m---> 11\u001b[0m \u001b[38;5;28;01mfrom\u001b[39;00m \u001b[38;5;21;01mthinc\u001b[39;00m\u001b[38;5;21;01m.\u001b[39;00m\u001b[38;5;21;01mapi\u001b[39;00m \u001b[38;5;28;01mimport\u001b[39;00m prefer_gpu, require_gpu, require_cpu  \u001b[38;5;66;03m# noqa: F401\u001b[39;00m\n\u001b[0;32m     12\u001b[0m \u001b[38;5;28;01mfrom\u001b[39;00m \u001b[38;5;21;01mthinc\u001b[39;00m\u001b[38;5;21;01m.\u001b[39;00m\u001b[38;5;21;01mapi\u001b[39;00m \u001b[38;5;28;01mimport\u001b[39;00m Config\n\u001b[0;32m     14\u001b[0m \u001b[38;5;28;01mfrom\u001b[39;00m \u001b[38;5;21;01m.\u001b[39;00m \u001b[38;5;28;01mimport\u001b[39;00m pipeline  \u001b[38;5;66;03m# noqa: F401\u001b[39;00m\n",
      "File \u001b[1;32m~\\anaconda3\\envs\\buzz\\lib\\site-packages\\thinc\\__init__.py:5\u001b[0m, in \u001b[0;36m<module>\u001b[1;34m\u001b[0m\n\u001b[0;32m      2\u001b[0m \u001b[38;5;28;01mimport\u001b[39;00m \u001b[38;5;21;01mnumpy\u001b[39;00m\n\u001b[0;32m      4\u001b[0m \u001b[38;5;28;01mfrom\u001b[39;00m \u001b[38;5;21;01m.\u001b[39;00m\u001b[38;5;21;01mabout\u001b[39;00m \u001b[38;5;28;01mimport\u001b[39;00m __version__\n\u001b[1;32m----> 5\u001b[0m \u001b[38;5;28;01mfrom\u001b[39;00m \u001b[38;5;21;01m.\u001b[39;00m\u001b[38;5;21;01mconfig\u001b[39;00m \u001b[38;5;28;01mimport\u001b[39;00m registry\n",
      "File \u001b[1;32m~\\anaconda3\\envs\\buzz\\lib\\site-packages\\thinc\\config.py:22\u001b[0m, in \u001b[0;36m<module>\u001b[1;34m\u001b[0m\n\u001b[0;32m     19\u001b[0m \u001b[38;5;28;01mimport\u001b[39;00m \u001b[38;5;21;01mcopy\u001b[39;00m\n\u001b[0;32m     20\u001b[0m \u001b[38;5;28;01mimport\u001b[39;00m \u001b[38;5;21;01mre\u001b[39;00m\n\u001b[1;32m---> 22\u001b[0m \u001b[38;5;28;01mfrom\u001b[39;00m \u001b[38;5;21;01m.\u001b[39;00m\u001b[38;5;21;01mtypes\u001b[39;00m \u001b[38;5;28;01mimport\u001b[39;00m Decorator\n\u001b[0;32m     25\u001b[0m \u001b[38;5;66;03m# Field used for positional arguments, e.g. [section.*.xyz]. The alias is\u001b[39;00m\n\u001b[0;32m     26\u001b[0m \u001b[38;5;66;03m# required for the schema (shouldn't clash with user-defined arg names)\u001b[39;00m\n\u001b[0;32m     27\u001b[0m ARGS_FIELD \u001b[38;5;241m=\u001b[39m \u001b[38;5;124m\"\u001b[39m\u001b[38;5;124m*\u001b[39m\u001b[38;5;124m\"\u001b[39m\n",
      "File \u001b[1;32m~\\anaconda3\\envs\\buzz\\lib\\site-packages\\thinc\\types.py:11\u001b[0m, in \u001b[0;36m<module>\u001b[1;34m\u001b[0m\n\u001b[0;32m      8\u001b[0m \u001b[38;5;28;01mtry\u001b[39;00m:\n\u001b[0;32m      9\u001b[0m     \u001b[38;5;28;01mimport\u001b[39;00m \u001b[38;5;21;01mcupy\u001b[39;00m\n\u001b[1;32m---> 11\u001b[0m     get_array_module \u001b[38;5;241m=\u001b[39m \u001b[43mcupy\u001b[49m\u001b[38;5;241;43m.\u001b[39;49m\u001b[43mget_array_module\u001b[49m\n\u001b[0;32m     12\u001b[0m \u001b[38;5;28;01mexcept\u001b[39;00m \u001b[38;5;167;01mImportError\u001b[39;00m:\n\u001b[0;32m     13\u001b[0m     get_array_module \u001b[38;5;241m=\u001b[39m \u001b[38;5;28;01mlambda\u001b[39;00m obj: numpy\n",
      "\u001b[1;31mAttributeError\u001b[0m: module 'cupy' has no attribute 'get_array_module'"
     ]
    }
   ],
   "source": [
    "import pandas as pd\n",
    "import os\n",
    "from tqdm import tqdm\n",
    "import spacy\n",
    "from spacy.tokens import DocBin\n",
    "# import en_core_web_sm\n",
    "# nlp = en_core_web_sm.load()\n",
    "\n",
    "nlp = spacy.load('en_core_web_sm')\n",
    "\n",
    "db = DocBin()\n",
    "\n",
    "for text, annot in tqdm(TRAIN_DATA):\n",
    "   doc = nlp.make_doc(text)\n",
    "   ents = []\n",
    "   for start, end, label in annot[\"entities\"]:\n",
    "      span = doc.char_span(start, end, label=label, alignment_mode='contract')\n",
    "      if span is None:\n",
    "         print('Skipping entity')\n",
    "      else:\n",
    "         ents.append(span)\n",
    "   doc.ents = ents\n",
    "   db.add(doc)\n",
    "\n",
    "db.to_disk(\"./train.spacy\")\n"
   ]
  },
  {
   "cell_type": "markdown",
   "metadata": {},
   "source": [
    "## Fill the Config-File"
   ]
  },
  {
   "cell_type": "code",
   "execution_count": null,
   "metadata": {},
   "outputs": [],
   "source": [
    "!python -m spacy init fill-config base_config.cfg config.cfg"
   ]
  },
  {
   "cell_type": "code",
   "execution_count": null,
   "metadata": {},
   "outputs": [],
   "source": [
    "# import cupy\n",
    "# a = cupy.zeros((1, 1))\n"
   ]
  },
  {
   "cell_type": "code",
   "execution_count": null,
   "metadata": {},
   "outputs": [],
   "source": [
    "import torch\n",
    "torch.cuda.is_available()\n"
   ]
  },
  {
   "cell_type": "code",
   "execution_count": null,
   "metadata": {},
   "outputs": [],
   "source": [
    "import spacy\n",
    "spacy.require_gpu()\n"
   ]
  },
  {
   "cell_type": "code",
   "execution_count": null,
   "metadata": {},
   "outputs": [],
   "source": [
    "# \n",
    "!python -m spacy train config.cfg --output ./output --paths.train ./train.spacy --paths.dev ./train.spacy --gpu-id 0"
   ]
  }
 ],
 "metadata": {
  "interpreter": {
   "hash": "df56c3f33be98eff15c94ba6f17e31d55853b9b19f0021e4190bbdb94bb3692d"
  },
  "kernelspec": {
   "display_name": "Python 3 (ipykernel)",
   "language": "python",
   "name": "python3"
  },
  "language_info": {
   "codemirror_mode": {
    "name": "ipython",
    "version": 3
   },
   "file_extension": ".py",
   "mimetype": "text/x-python",
   "name": "python",
   "nbconvert_exporter": "python",
   "pygments_lexer": "ipython3",
   "version": "3.9.7"
  }
 },
 "nbformat": 4,
 "nbformat_minor": 2
}
