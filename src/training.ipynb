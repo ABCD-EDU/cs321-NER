{
 "cells": [
  {
   "cell_type": "code",
   "execution_count": 1,
   "metadata": {},
   "outputs": [],
   "source": [
    "!pip3 install torch torchvision torchaudio --extra-index-url https://download.pytorch.org/whl/cu115\n",
    "!pip install pandas\n",
    "!python -m pip uninstall -y spacy\n",
    "!python -m pip install -U spacy\n",
    "!pip install -U pip setuptools wheel\n",
    "!pip install spacy-transformers\n",
    "!python -m spacy download en_core_web_sm\n",
    "# !pip install -U spacy[cuda101]\n",
    "!pip install -U spacy[cuda]\n",
    "!pip install tqdm"
   ]
  },
  {
   "cell_type": "code",
   "execution_count": 7,
   "metadata": {},
   "outputs": [],
   "source": [
    "TRAIN_DATA = [\n",
    "    (\"Walmart is a leading e-commerce company\", {\"entities\": [(1, 7, \"ORG\")]}),\n",
    "    (\"I reached Chennai yesterday.\", {\n",
    "        \"entities\": [(19, 28, \"GPE\")]}),\n",
    "    (\"I recently ordered a book from Amazon\", {\"entities\": [(24, 32, \"ORG\")]}),\n",
    "    (\"I was driving a BMW\", {\"entities\": [(16, 19, \"PRODUCT\")]}),\n",
    "    (\"I ordered this from ShopClues\", {\"entities\": [(20, 29, \"ORG\")]}),\n",
    "    (\"Fridge can be ordered in Amazon \", {\"entities\": [(0, 6, \"PRODUCT\")]}),\n",
    "    (\"I bought a new Washer\", {\"entities\": [(16, 22, \"PRODUCT\")]}),\n",
    "    (\"I bought a old table\", {\"entities\": [(16, 21, \"PRODUCT\")]}),\n",
    "    (\"I bought a fancy dress\", {\"entities\": [(18, 23, \"PRODUCT\")]}),\n",
    "    (\"I rented a camera\", {\"entities\": [(12, 18, \"PRODUCT\")]}),\n",
    "    (\"I rented a tent for our trip\", {\"entities\": [(12, 16, \"PRODUCT\")]}),\n",
    "    (\"I rented a screwdriver from our neighbour\",\n",
    "     {\"entities\": [(12, 22, \"PRODUCT\")]}),\n",
    "    (\"I repaired my computer\", {\"entities\": [(15, 23, \"PRODUCT\")]}),\n",
    "    (\"I got my clock fixed\", {\"entities\": [(16, 21, \"PRODUCT\")]}),\n",
    "    (\"I got my truck fixed\", {\"entities\": [(16, 21, \"PRODUCT\")]}),\n",
    "    (\"Flipkart started it's journey from zero\", {\"entities\": [(0, 8, \"ORG\")]}),\n",
    "    (\"I recently ordered from Max\", {\"entities\": [(24, 27, \"ORG\")]}),\n",
    "    (\"Flipkart is recognized as leader in market\",\n",
    "     {\"entities\": [(0, 8, \"ORG\")]}),\n",
    "    (\"I recently ordered from Swiggy\", {\"entities\": [(24, 30, \"ORG\")]})\n",
    "]\n"
   ]
  },
  {
   "cell_type": "code",
   "execution_count": 2,
   "metadata": {},
   "outputs": [
    {
     "name": "stderr",
     "output_type": "stream",
     "text": [
      "100%|██████████| 19/19 [00:00<00:00, 2110.31it/s]"
     ]
    },
    {
     "name": "stdout",
     "output_type": "stream",
     "text": [
      "Skipping entity\n",
      "Skipping entity\n",
      "Skipping entity\n",
      "Skipping entity\n",
      "Skipping entity\n",
      "Skipping entity\n",
      "Skipping entity\n",
      "Skipping entity\n",
      "Skipping entity\n",
      "Skipping entity\n"
     ]
    },
    {
     "name": "stderr",
     "output_type": "stream",
     "text": [
      "\n"
     ]
    }
   ],
   "source": [
    "import pandas as pd\n",
    "import os\n",
    "from tqdm import tqdm\n",
    "import spacy\n",
    "from spacy.tokens import DocBin\n",
    "# import en_core_web_sm\n",
    "# nlp = en_core_web_sm.load()\n",
    "\n",
    "nlp = spacy.load('en_core_web_sm')\n",
    "\n",
    "db = DocBin()\n",
    "\n",
    "for text, annot in tqdm(TRAIN_DATA):\n",
    "   doc = nlp.make_doc(text)\n",
    "   ents = []\n",
    "   for start, end, label in annot[\"entities\"]:\n",
    "      span = doc.char_span(start, end, label=label, alignment_mode='contract')\n",
    "      if span is None:\n",
    "         print('Skipping entity')\n",
    "      else:\n",
    "         ents.append(span)\n",
    "   doc.ents = ents\n",
    "   db.add(doc)\n",
    "\n",
    "db.to_disk(\"./train.spacy\")\n"
   ]
  },
  {
   "cell_type": "markdown",
   "metadata": {},
   "source": [
    "## Fill the Config-File"
   ]
  },
  {
   "cell_type": "code",
   "execution_count": 3,
   "metadata": {},
   "outputs": [
    {
     "name": "stdout",
     "output_type": "stream",
     "text": [
      "✔ Auto-filled config with all values\n",
      "✔ Saved config\n",
      "config.cfg\n",
      "You can now add your data and train your pipeline:\n",
      "python -m spacy train config.cfg --paths.train ./train.spacy --paths.dev ./dev.spacy\n"
     ]
    }
   ],
   "source": [
    "!python -m spacy init fill-config base_config.cfg config.cfg"
   ]
  },
  {
   "cell_type": "code",
   "execution_count": 2,
   "metadata": {},
   "outputs": [],
   "source": [
    "# import cupy\n",
    "# a = cupy.zeros((1, 1))\n"
   ]
  },
  {
   "cell_type": "code",
   "execution_count": null,
   "metadata": {},
   "outputs": [
    {
     "ename": "",
     "evalue": "",
     "output_type": "error",
     "traceback": [
      "\u001b[1;31mRunning cells with 'Python 3.9.12 ('cs321-ner-project')' requires ipykernel package.\n",
      "Run the following command to install 'ipykernel' into the Python environment. \n",
      "Command: 'conda install -n cs321-ner-project ipykernel --update-deps --force-reinstall'"
     ]
    }
   ],
   "source": [
    "import torch\n",
    "torch.cuda.is_available()\n"
   ]
  },
  {
   "cell_type": "code",
   "execution_count": 2,
   "metadata": {},
   "outputs": [
    {
     "ename": "ValueError",
     "evalue": "GPU is not accessible. Was the library installed correctly?",
     "output_type": "error",
     "traceback": [
      "\u001b[1;31m---------------------------------------------------------------------------\u001b[0m",
      "\u001b[1;31mValueError\u001b[0m                                Traceback (most recent call last)",
      "\u001b[1;32me:\\BSCS 3- 2ND SEM\\9334-CS321-ARTIFICIAL_INTELLIGENCE\\Mid\\NER\\cs321-NER\\src\\tutorial.ipynb Cell 8'\u001b[0m in \u001b[0;36m<cell line: 2>\u001b[1;34m()\u001b[0m\n\u001b[0;32m      <a href='vscode-notebook-cell:/e%3A/BSCS%203-%202ND%20SEM/9334-CS321-ARTIFICIAL_INTELLIGENCE/Mid/NER/cs321-NER/src/tutorial.ipynb#ch0000007?line=0'>1</a>\u001b[0m \u001b[39mimport\u001b[39;00m \u001b[39mspacy\u001b[39;00m\n\u001b[1;32m----> <a href='vscode-notebook-cell:/e%3A/BSCS%203-%202ND%20SEM/9334-CS321-ARTIFICIAL_INTELLIGENCE/Mid/NER/cs321-NER/src/tutorial.ipynb#ch0000007?line=1'>2</a>\u001b[0m spacy\u001b[39m.\u001b[39;49mrequire_gpu()\n",
      "File \u001b[1;32m~\\.conda\\envs\\test-env\\lib\\site-packages\\thinc\\util.py:196\u001b[0m, in \u001b[0;36mrequire_gpu\u001b[1;34m(gpu_id)\u001b[0m\n\u001b[0;32m    <a href='file:///c%3A/Users/Arian/.conda/envs/test-env/lib/site-packages/thinc/util.py?line=192'>193</a>\u001b[0m \u001b[39mfrom\u001b[39;00m \u001b[39m.\u001b[39;00m\u001b[39mbackends\u001b[39;00m \u001b[39mimport\u001b[39;00m set_current_ops, CupyOps\n\u001b[0;32m    <a href='file:///c%3A/Users/Arian/.conda/envs/test-env/lib/site-packages/thinc/util.py?line=194'>195</a>\u001b[0m \u001b[39mif\u001b[39;00m CupyOps\u001b[39m.\u001b[39mxp \u001b[39mis\u001b[39;00m \u001b[39mNone\u001b[39;00m:\n\u001b[1;32m--> <a href='file:///c%3A/Users/Arian/.conda/envs/test-env/lib/site-packages/thinc/util.py?line=195'>196</a>\u001b[0m     \u001b[39mraise\u001b[39;00m \u001b[39mValueError\u001b[39;00m(\u001b[39m\"\u001b[39m\u001b[39mGPU is not accessible. Was the library installed correctly?\u001b[39m\u001b[39m\"\u001b[39m)\n\u001b[0;32m    <a href='file:///c%3A/Users/Arian/.conda/envs/test-env/lib/site-packages/thinc/util.py?line=197'>198</a>\u001b[0m set_current_ops(CupyOps())\n\u001b[0;32m    <a href='file:///c%3A/Users/Arian/.conda/envs/test-env/lib/site-packages/thinc/util.py?line=198'>199</a>\u001b[0m set_active_gpu(gpu_id)\n",
      "\u001b[1;31mValueError\u001b[0m: GPU is not accessible. Was the library installed correctly?"
     ]
    }
   ],
   "source": [
    "import spacy\n",
    "spacy.require_gpu()\n"
   ]
  },
  {
   "cell_type": "code",
   "execution_count": 5,
   "metadata": {},
   "outputs": [
    {
     "name": "stdout",
     "output_type": "stream",
     "text": [
      "ℹ Saving to output directory: output\n",
      "ℹ Using GPU: 0\n"
     ]
    },
    {
     "name": "stderr",
     "output_type": "stream",
     "text": [
      "Traceback (most recent call last):\n",
      "  File \"C:\\Users\\Arian\\.conda\\envs\\cs321-ner-project\\lib\\runpy.py\", line 197, in _run_module_as_main\n",
      "    return _run_code(code, main_globals, None,\n",
      "  File \"C:\\Users\\Arian\\.conda\\envs\\cs321-ner-project\\lib\\runpy.py\", line 87, in _run_code\n",
      "    exec(code, run_globals)\n",
      "  File \"C:\\Users\\Arian\\.conda\\envs\\cs321-ner-project\\lib\\site-packages\\spacy\\__main__.py\", line 4, in <module>\n",
      "    setup_cli()\n",
      "  File \"C:\\Users\\Arian\\.conda\\envs\\cs321-ner-project\\lib\\site-packages\\spacy\\cli\\_util.py\", line 71, in setup_cli\n",
      "    command(prog_name=COMMAND)\n",
      "  File \"C:\\Users\\Arian\\.conda\\envs\\cs321-ner-project\\lib\\site-packages\\click\\core.py\", line 1128, in __call__\n",
      "    return self.main(*args, **kwargs)\n",
      "  File \"C:\\Users\\Arian\\.conda\\envs\\cs321-ner-project\\lib\\site-packages\\click\\core.py\", line 1053, in main\n",
      "    rv = self.invoke(ctx)\n",
      "  File \"C:\\Users\\Arian\\.conda\\envs\\cs321-ner-project\\lib\\site-packages\\click\\core.py\", line 1659, in invoke\n",
      "    return _process_result(sub_ctx.command.invoke(sub_ctx))\n",
      "  File \"C:\\Users\\Arian\\.conda\\envs\\cs321-ner-project\\lib\\site-packages\\click\\core.py\", line 1395, in invoke\n",
      "    return ctx.invoke(self.callback, **ctx.params)\n",
      "  File \"C:\\Users\\Arian\\.conda\\envs\\cs321-ner-project\\lib\\site-packages\\click\\core.py\", line 754, in invoke\n",
      "    return __callback(*args, **kwargs)\n",
      "  File \"C:\\Users\\Arian\\.conda\\envs\\cs321-ner-project\\lib\\site-packages\\typer\\main.py\", line 500, in wrapper\n",
      "    return callback(**use_params)  # type: ignore\n",
      "  File \"C:\\Users\\Arian\\.conda\\envs\\cs321-ner-project\\lib\\site-packages\\spacy\\cli\\train.py\", line 45, in train_cli\n",
      "    train(config_path, output_path, use_gpu=use_gpu, overrides=overrides)\n",
      "  File \"C:\\Users\\Arian\\.conda\\envs\\cs321-ner-project\\lib\\site-packages\\spacy\\cli\\train.py\", line 67, in train\n",
      "    setup_gpu(use_gpu)\n",
      "  File \"C:\\Users\\Arian\\.conda\\envs\\cs321-ner-project\\lib\\site-packages\\spacy\\cli\\_util.py\", line 554, in setup_gpu\n",
      "    require_gpu(use_gpu)\n",
      "  File \"C:\\Users\\Arian\\.conda\\envs\\cs321-ner-project\\lib\\site-packages\\thinc\\util.py\", line 196, in require_gpu\n",
      "    raise ValueError(\"GPU is not accessible. Was the library installed correctly?\")\n",
      "ValueError: GPU is not accessible. Was the library installed correctly?\n"
     ]
    }
   ],
   "source": [
    "# \n",
    "!python -m spacy train config.cfg --output ./output --paths.train ./train.spacy --paths.dev ./train.spacy --gpu-id 0"
   ]
  }
 ],
 "metadata": {
  "interpreter": {
   "hash": "df56c3f33be98eff15c94ba6f17e31d55853b9b19f0021e4190bbdb94bb3692d"
  },
  "kernelspec": {
   "display_name": "Python 3.8.12 ('cs321-NER')",
   "language": "python",
   "name": "python3"
  },
  "language_info": {
   "codemirror_mode": {
    "name": "ipython",
    "version": 3
   },
   "file_extension": ".py",
   "mimetype": "text/x-python",
   "name": "python",
   "nbconvert_exporter": "python",
   "pygments_lexer": "ipython3",
   "version": "3.9.12"
  },
  "orig_nbformat": 4
 },
 "nbformat": 4,
 "nbformat_minor": 2
}
